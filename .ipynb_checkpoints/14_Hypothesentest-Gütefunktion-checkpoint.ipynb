{
 "cells": [
  {
   "cell_type": "code",
   "execution_count": 1,
   "metadata": {},
   "outputs": [],
   "source": [
    "import numpy as np\n",
    "import pandas as pd\n",
    "import scipy.io\n",
    "import math\n",
    "from scipy.stats import t       #t-Verteitung\n",
    "from scipy.stats import f       #f-Verteilung \n",
    "from scipy.stats import norm    #Standartnormalverteilung\n",
    "from scipy.stats import chi2    #Chi-Quadrat-Verteilung \n",
    "from scipy import stats\n",
    "import matplotlib.pyplot as plt\n",
    "import seaborn as sns\n",
    "from pandas.plotting import scatter_matrix\n",
    "%matplotlib inline"
   ]
  },
  {
   "cell_type": "code",
   "execution_count": 8,
   "metadata": {},
   "outputs": [
    {
     "name": "stdout",
     "output_type": "stream",
     "text": [
      "Der Annahmebereich befindet sich wischen: 2.5617 <x_q0< 3.4383\n"
     ]
    }
   ],
   "source": [
    "alpha = 0.05        #Gegeben aus Aufgabe\n",
    "N= 5    \t    #(bekannt)Anzahl der Stichproben \n",
    "mü= 3           #(soll) Ferigung SOLL mü=3 haben\n",
    "sigma = 0.5     #(bekannt)Bekannte Standartabweichung\n",
    "\n",
    "F_c1 = alpha/2\n",
    "F_c2 = 1-(alpha/2)\n",
    "\n",
    "c1 = norm.ppf(F_c1)\n",
    "c2 = norm.ppf(F_c2)\n",
    "\n",
    "mü_0= mü #ANNAHME FÜR DEN TEST\n",
    "\n",
    "mü_c1 = mü_0+((c1*sigma)/(np.sqrt(N)))\n",
    "mü_c2 = mü_0+((c2*sigma)/(np.sqrt(N)))\n",
    "\n",
    "print(\"Der Annahmebereich befindet sich wischen:\", np.round(mü_c1,4),\"<x_q0<\",np.round(mü_c2,4))"
   ]
  },
  {
   "cell_type": "code",
   "execution_count": 9,
   "metadata": {},
   "outputs": [
    {
     "data": {
      "image/png": "[encoded data removed]",
      "text/plain": [
       "<Figure size 432x288 with 1 Axes>"
      ]
     },
     "metadata": {
      "needs_background": "light"
     },
     "output_type": "display_data"
    }
   ],
   "source": [
    "#https://www.eit.hs-karlsruhe.de/dfss/nc/statistics/hypothesentest/sicherheit-bei-hypothesentests/guetefunktion-eines-hypothesentests.html?sword_list%5B%5D=G%C3%BCte\n",
    "\n",
    "dx = 0.01\n",
    "mü_x = np.arange(mü-2,mü+2+dx,dx) #verschiedene Werte für mü (groß wählen)\n",
    "\n",
    "Fkt = 1+norm.cdf((mü_c1-mü_x)/(sigma/np.sqrt(N))) -norm.cdf((mü_c2-mü_x)/(sigma/np.sqrt(N))) #Anpassem ob norm.cdf oder doch f.cdf etc. \n",
    "\n",
    "fig = plt.figure(figsize=(6, 4))\n",
    "plt.plot(mü_x, Fkt, color='r')\n",
    "plt.plot(2.5,Fkt[150],'+')  #Fkt[150] ist die Funktion an der Stelle von mü=2.5\n",
    "plt.title(\"Gütefunktion des Hypothesentests\",fontsize=12)\n",
    "plt.xlabel(\"Alternativer Mittelwert ${\\mu}$\" ,fontsize=12)\n",
    "plt.ylabel(\"Güte\",fontsize=12)\n",
    "plt.grid()\n",
    "plt.ylim(top=1)\n",
    "plt.xlim(right=mü+2, left=mü-2)\n",
    "plt.show()"
   ]
  },
  {
   "cell_type": "code",
   "execution_count": null,
   "metadata": {},
   "outputs": [],
   "source": [
    "index = np.min(np.where(G <= 0.99))\n",
    "M99 = dmu[index]\n",
    "print(M99)\n",
    "\n",
    "#Suche die Abweichung an einer bestimmten Prozenzsatz"
   ]
  }
 ],
 "metadata": {
  "interpreter": {
   "hash": "50e16c2f44914c8da2b92774b22a803d1d19d4c43cfd037324ac5d889001e7fd"
  },
  "kernelspec": {
   "display_name": "Python 3 (ipykernel)",
   "language": "python",
   "name": "python3"
  },
  "language_info": {
   "codemirror_mode": {
    "name": "ipython",
    "version": 3
   },
   "file_extension": ".py",
   "mimetype": "text/x-python",
   "name": "python",
   "nbconvert_exporter": "python",
   "pygments_lexer": "ipython3",
   "version": "3.8.12"
  }
 },
 "nbformat": 4,
 "nbformat_minor": 2
}
