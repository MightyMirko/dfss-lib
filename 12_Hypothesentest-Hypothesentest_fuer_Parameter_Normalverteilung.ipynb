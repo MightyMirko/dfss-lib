{
 "cells": [
  {
   "cell_type": "markdown",
   "metadata": {},
   "source": [
    "Übersicht:\n",
    "\n",
    "https://www.eit.hs-karlsruhe.de/dfss/statistics/hypothesentest/hypothesentests-fuer-die-parameter-einer-normalverteilung/zusammenfassung-der-hypothesentests-fuer-die-parameter-einer-normalverteilung.html"
   ]
  },
  {
   "cell_type": "code",
   "execution_count": 1,
   "metadata": {},
   "outputs": [],
   "source": [
    "import numpy as np\n",
    "import pandas as pd\n",
    "import scipy.io\n",
    "import math\n",
    "from scipy.stats import t       #t-Verteitung\n",
    "from scipy.stats import f       #f-Verteilung \n",
    "from scipy.stats import norm    #Standartnormalverteilung\n",
    "from scipy.stats import chi2    #Chi-Quadrat-Verteilung \n",
    "from scipy import stats\n",
    "import matplotlib.pyplot as plt\n",
    "import seaborn as sns\n",
    "from pandas.plotting import scatter_matrix\n",
    "%matplotlib inline"
   ]
  },
  {
   "cell_type": "markdown",
   "metadata": {},
   "source": [
    "01: Test auf Mittelwert µ0 bei bekannter Varianz (Ein-Stichproben-z-Test)"
   ]
  },
  {
   "cell_type": "code",
   "execution_count": null,
   "metadata": {},
   "outputs": [],
   "source": [
    "#https://www.eit.hs-karlsruhe.de/dfss/statistics/hypothesentest/hypothesentests-fuer-die-parameter-einer-normalverteilung/test-auf-mittelwert-u0-bei-bekannter-varianz-ein-stichproben-z-test.html\n",
    "\n",
    "\"\"\"Daten laden\"\"\"\n",
    "x = [3,3,2,4,3] #Daten anpassen!\n",
    "N = len(x)\n",
    "\n",
    "\"\"\"Wahl eines Signifikanzniveaus \"\"\"\n",
    "alpha = 0.05        #Entweder vorgegeben oder selber wählen (5% ist Std)\n",
    "Gamma = 1- alpha\n",
    "\n",
    "\"\"\"Parameter c1 und c2 aus der inversen Standardnormalverteilung\"\"\"\n",
    "c1 = norm.ppf((1-Gamma)/2)    #Bestimmung von c1 (Umkehrfunktion)\n",
    "c2 = norm.ppf((1+Gamma)/2)    #Bestimmung von c2 (Umkehrfunktion)\n",
    "\n",
    "\"\"\"Berechnung des Mittelwertes aus der Stichprobe\"\"\"\n",
    "x_q = np.mean(x)\n",
    "\n",
    "\"\"\"Vorgabewerte\"\"\"\n",
    "mü0 = 3     #Vorgabe aus Aufgabe\n",
    "sigma = 0.5 #Vorgabe aus Aufgabe\n",
    "\n",
    "\"\"\"Bestimmung des Annahmebereichs\"\"\"\n",
    "mü_c1 = mü0 + (c1*sigma)/np.sqrt(N)\n",
    "mü_c2 = mü0 + (c2*sigma)/np.sqrt(N)\n",
    "\n",
    "\n",
    "print(np.round(mü_c1,4),\"<\",x_q,\"<\",np.round(mü_c2,4))"
   ]
  },
  {
   "cell_type": "markdown",
   "metadata": {},
   "source": [
    "02: Test auf eine Standardabweichung σ0 (Ein-Stichproben-Chi-Quadrat-Test)"
   ]
  },
  {
   "cell_type": "code",
   "execution_count": 3,
   "metadata": {},
   "outputs": [
    {
     "name": "stdout",
     "output_type": "stream",
     "text": [
      "0.066 < s0^2 < 0.2895\n"
     ]
    }
   ],
   "source": [
    "#https://www.eit.hs-karlsruhe.de/dfss/statistics/hypothesentest/hypothesentests-fuer-die-parameter-einer-normalverteilung/test-auf-eine-standardabweichung-9630-ein-stichproben-chi-quadrat-test.html\n",
    "\n",
    "\"\"\"Daten laden\"\"\"\n",
    "x =[15,15,15,15,15,15,15,15,15,15,15,15.63,15,15,15,15]  #Daten anpassen!\n",
    "N = len(x)\n",
    "\n",
    "\"\"\"Wahl eines Signifikanzniveaus \"\"\"\n",
    "alpha = 0.05    #Entweder vorgegeben oder selber wählen (5% ist Std)\n",
    "Gamma = 1- alpha\n",
    "\n",
    "\"\"\" c1 und c2 aus der inversen Chi-Quadrat-Verteilung mit N - 1 Freiheitsgraden\"\"\"\n",
    "c1 = chi2.ppf((1-Gamma)/2, N-1)    #Bestimmung von c1 (Umkehrfunktion)\n",
    "c2 = chi2.ppf((1+Gamma)/2, N-1)    #Bestimmung von c2 (Umkehrfunktion)\n",
    "\n",
    "\"\"\"Berechnung des Mittelwertes aus der Stichprobe\"\"\"\n",
    "s = np.std(x, ddof=1)   #Standartabweichung für Stichproben!\n",
    "s_quad = s**2\n",
    "\n",
    "\"\"\"Vorgabewerte\"\"\"\n",
    "sigma0 = 0.158   #Anpassen!\n",
    "\n",
    "\"\"\"Bestimmung des Annahmebereichs\"\"\"\n",
    "sigma_c1_quad = (c1/(N-1))*sigma0\n",
    "sigma_c2_quad = (c2/(N-1))*sigma0\n",
    "\n",
    "\n",
    "print(np.round(sigma_c1_quad,4),\"<=\",sigma0,\"<=\",np.round(sigma_c2_quad,4))"
   ]
  },
  {
   "cell_type": "markdown",
   "metadata": {},
   "source": [
    "03: Test auf Mittelwert µ0 bei unbekannter Varianz (Ein-Stichproben-t-Test)"
   ]
  },
  {
   "cell_type": "code",
   "execution_count": 4,
   "metadata": {},
   "outputs": [
    {
     "name": "stdout",
     "output_type": "stream",
     "text": [
      "2.122 < x_q < 3.878\n"
     ]
    }
   ],
   "source": [
    "#https://www.eit.hs-karlsruhe.de/dfss/statistics/hypothesentest/hypothesentests-fuer-die-parameter-einer-normalverteilung/test-auf-mittelwert-u0-bei-unbekannter-varianz-ein-stichproben-t-test.html\n",
    "\"\"\"Daten laden\"\"\"\n",
    "x = [3,3,2,4,3] #Daten anpassen!\n",
    "N = len(x)\n",
    "\n",
    "\"\"\"Wahl eines Signifikanzniveaus \"\"\"\n",
    "alpha = 0.05        #Entweder vorgegeben oder selber wählen (5% ist Std)\n",
    "Gamma = 1- alpha\n",
    "\n",
    "\"\"\"Parameter c1 und c2 aus der inversen t-Verteilung mit N - 1 Freiheitsgraden\"\"\"\n",
    "c1 = t.ppf((1-Gamma)/2, N-1)    #Bestimmung von c1 (Umkehrfunktion)\n",
    "c2 = t.ppf((1+Gamma)/2, N-1)    #Bestimmung von c2 (Umkehrfunktion)\n",
    "\n",
    "\"\"\"Berechnung des Mittelwertes aus der Stichprobe\"\"\"\n",
    "x_q = np.mean(x)\n",
    "s = np.std(x, ddof=1)   #Nicht sicher? Steht so nicht im Vorgehen, aber s wird erwartet...\n",
    "\n",
    "\"\"\"Vorgabewerte\"\"\"\n",
    "mü0 = 3 #Vorgabe aus Aufgabe <- Anpassen!\n",
    "\n",
    "\"\"\"Bestimmung des Annahmebereichs\"\"\"\n",
    "mü_c1 = mü0 + (c1*s)/np.sqrt(N)\n",
    "mü_c2 = mü0 + (c2*s)/np.sqrt(N)\n",
    "\n",
    "print(np.round(mü_c1,4),\"<=\",x_q,\"<=\",np.round(mü_c2,4))"
   ]
  }
 ],
 "metadata": {
  "interpreter": {
   "hash": "50e16c2f44914c8da2b92774b22a803d1d19d4c43cfd037324ac5d889001e7fd"
  },
  "kernelspec": {
   "display_name": "Python 3.7.4 64-bit",
   "language": "python",
   "name": "python3"
  },
  "language_info": {
   "codemirror_mode": {
    "name": "ipython",
    "version": 3
   },
   "file_extension": ".py",
   "mimetype": "text/x-python",
   "name": "python",
   "nbconvert_exporter": "python",
   "pygments_lexer": "ipython3",
   "version": "3.7.4"
  },
  "orig_nbformat": 4
 },
 "nbformat": 4,
 "nbformat_minor": 2
}
