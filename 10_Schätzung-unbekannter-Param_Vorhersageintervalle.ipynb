{
 "cells": [
  {
   "cell_type": "code",
   "execution_count": 2,
   "metadata": {},
   "outputs": [],
   "source": [
    "import numpy as np\n",
    "import pandas as pd\n",
    "import scipy.io\n",
    "import math\n",
    "from scipy.stats import t       #t-Verteitung\n",
    "from scipy.stats import f       #f-Verteilung \n",
    "from scipy.stats import norm    #Standartnormalverteilung\n",
    "from scipy.stats import chi2    #Chi-Quadrat-Verteilung \n",
    "from scipy import stats\n",
    "import matplotlib.pyplot as plt\n",
    "import seaborn as sns\n",
    "from pandas.plotting import scatter_matrix\n",
    "%matplotlib inline"
   ]
  },
  {
   "cell_type": "markdown",
   "metadata": {},
   "source": [
    "01: Vorhersageintervall bei bekanntem Mittelwert und bekannter Varianz"
   ]
  },
  {
   "cell_type": "code",
   "execution_count": 4,
   "metadata": {},
   "outputs": [
    {
     "name": "stdout",
     "output_type": "stream",
     "text": [
      "302.7607 < x < 377.2393\n"
     ]
    }
   ],
   "source": [
    "#https://www.eit.hs-karlsruhe.de/dfss/statistics/schaetzung-von-unbekannten-parametern-einer-verteilung/vorhersageintervalle-fuer-kuenftige-stichprobenwerte/vorhersageintervall-bei-bekanntem-mittelwert-und-bekannter-varianz.html\n",
    "\n",
    "\"\"\"Gewollte Daten aus dem Matlab file laden\"\"\"\n",
    "x = scipy.io.loadmat('Selbstentzuendung.mat')['Temp']\n",
    "x = np.ravel(x)\n",
    "\n",
    "N = len(x)\n",
    "\n",
    "\"\"\"Vorgegebene Werte aus Aufgabe\"\"\"\n",
    "Gamma = 0.95    #Anpassen!\n",
    "mü = 340        #Mittelwert der Grundgesamtheit (mü) -> Anpassen!\n",
    "sigma = 19      #Standartabweichung der Grundgesamtheit\n",
    "\n",
    "\"\"\"Grenzen\"\"\"\n",
    "F_c1 = (1-Gamma)/2\n",
    "F_c2 = (1+Gamma)/2\n",
    "\n",
    "c1 = norm.ppf(F_c1) \n",
    "c2 = norm.ppf(F_c2) \n",
    "\n",
    "\"\"\"Bestimmung Prognoseintervall\"\"\"\n",
    "x_min = mü + c1 * sigma\n",
    "x_max = mü + c2 * sigma\n",
    "\n",
    "print(np.round(x_min,4),\"< x <\",np.round(x_max,4))"
   ]
  },
  {
   "cell_type": "markdown",
   "metadata": {},
   "source": [
    "02: Vorhersageintervall bei unbekanntem Mittelwert und bekannter Varianz"
   ]
  },
  {
   "cell_type": "code",
   "execution_count": 6,
   "metadata": {},
   "outputs": [
    {
     "name": "stdout",
     "output_type": "stream",
     "text": [
      "298.5436 < x < 373.0222\n"
     ]
    }
   ],
   "source": [
    "#https://www.eit.hs-karlsruhe.de/dfss/statistics/schaetzung-von-unbekannten-parametern-einer-verteilung/vorhersageintervalle-fuer-kuenftige-stichprobenwerte/vorhersageintervall-bei-unbekanntem-mittelwert-und-bekannter-varianz.html\n",
    "\n",
    "\"\"\"Gewollte Daten aus dem Matlab file laden\"\"\"\n",
    "x = scipy.io.loadmat('Selbstentzuendung.mat')['Temp']\n",
    "x = np.ravel(x)\n",
    "\n",
    "N = len(x)\n",
    "\n",
    "\"\"\"Vorgegebene Werte aus Aufgabe\"\"\"\n",
    "Gamma = 0.95    #Anpassen!\n",
    "sigma2 = 19     #Varianz der Grundgesamtheit: sig^2 nicht Standartabweichung\n",
    "\n",
    "\"\"\"Grenzen\"\"\"\n",
    "F_c1 = (1-Gamma)/2\n",
    "F_c2 = (1+Gamma)/2\n",
    "\n",
    "c1 = norm.ppf(F_c1) \n",
    "c2 = norm.ppf(F_c2) \n",
    "\n",
    "\"\"\"Berechnung des Mittelwertes der Stichprobe\"\"\"\n",
    "xq = np.mean(x)\n",
    "\n",
    "\"\"\"Bestimmung des Prognoseintervalls\"\"\"\n",
    "x_min = xq + c1 * np.sqrt((sigma2+(sigma2/N)))\n",
    "x_max = xq + c2 * np.sqrt((sigma2+(sigma2/N)))\n",
    "\n",
    "print(np.round(x_min,4),\"< x <\",np.round(x_max,4))"
   ]
  },
  {
   "cell_type": "markdown",
   "metadata": {},
   "source": [
    "03: Vorhersageintervall bei bekanntem Mittelwert und unbekannter Varianz "
   ]
  },
  {
   "cell_type": "code",
   "execution_count": 10,
   "metadata": {},
   "outputs": [
    {
     "name": "stdout",
     "output_type": "stream",
     "text": [
      "325.9346 < x < 354.0654\n"
     ]
    }
   ],
   "source": [
    "#https://www.eit.hs-karlsruhe.de/dfss/statistics/schaetzung-von-unbekannten-parametern-einer-verteilung/vorhersageintervalle-fuer-kuenftige-stichprobenwerte/vorhersageintervall-bei-bekanntem-mittelwert-und-unbekannter-varianz.html\"\"\"Gewollte Daten aus dem Matlab file laden\"\"\"\n",
    "\n",
    "\"\"\"Gewollte Daten aus dem Matlab file laden\"\"\"\n",
    "x = scipy.io.loadmat('Selbstentzuendung.mat')['Temp']\n",
    "x = np.ravel(x)\n",
    "\n",
    "N = len(x)\n",
    "\n",
    "\"\"\"Vorgegebene Werte aus Aufgabe\"\"\"\n",
    "mü = 340          #Mittelwert der Grundgesamtheit (mü)\n",
    "Gamma = 0.95    \n",
    "\n",
    "\"\"\"Bestimmung der zugehörigen Parameter c1 und c2 aus der inversen\"\"\"\n",
    "F_c1 = (1-Gamma)/2\n",
    "F_c2 = (1+Gamma)/2\n",
    "\n",
    "c1 = t.ppf(F_c1, N-1) \n",
    "c2 = t.ppf(F_c2, N-1) \n",
    "\n",
    "\"\"\"Berechnung der Standardabweichung aus der Stichprobe\"\"\"\n",
    "s = np.std(x, ddof=1) #Standartabweichung der Stichprobe\n",
    "\n",
    "\"\"\"Bestimmung des Prognoseintervalls\"\"\"\n",
    "x_min = mü + c1 * s\n",
    "x_max = mü + c2 * s\n",
    "\n",
    "print(np.round(x_min,4),\"< x <\",np.round(x_max,4))"
   ]
  },
  {
   "cell_type": "markdown",
   "metadata": {},
   "source": [
    "04: Vorhersageintervall bei unbekanntem Mittelwert und unbekannter Varianz"
   ]
  },
  {
   "cell_type": "code",
   "execution_count": 9,
   "metadata": {},
   "outputs": [
    {
     "name": "stdout",
     "output_type": "stream",
     "text": [
      "318.3169 < x < 346.4477\n"
     ]
    }
   ],
   "source": [
    "#https://www.eit.hs-karlsruhe.de/dfss/statistics/schaetzung-von-unbekannten-parametern-einer-verteilung/vorhersageintervalle-fuer-kuenftige-stichprobenwerte/vorhersageintervall-bei-unbekanntem-mittelwert-und-unbekannter-varianz.html\n",
    "\"\"\"Gewollte Daten aus dem Matlab file laden\"\"\"\n",
    "x = scipy.io.loadmat('Selbstentzuendung.mat')['Temp']\n",
    "x = np.ravel(x)\n",
    "\n",
    "N = len(x)\n",
    "\n",
    "\"\"\"Vorgegebene Werte\"\"\"\n",
    "Gamma = 0.95        #Anpassen!\n",
    "\n",
    "\"\"\"Grenzen \"\"\"\n",
    "F_c1 = (1-Gamma)/2\n",
    "F_c2 = (1+Gamma)/2\n",
    "\n",
    "c1 = t.ppf(F_c1, N-1) \n",
    "c2 = t.ppf(F_c2, N-1) \n",
    "\n",
    "\"\"\"Berechnung des Mittelwertes und der Standardabweichung aus der Stichprobe\"\"\"\n",
    "xq = np.mean(x)         #Mittelwert der Stichprobe\n",
    "s = np.std(x, ddof=1)   #Standartabweichung der Stichprobe\n",
    "\n",
    "\"\"\"Bestimmung des Prognoseintervalls\"\"\"\n",
    "x_min = xq + c1 * s + np.sqrt((1+(1/N)))\n",
    "x_max = xq + c2 * s + np.sqrt((1+(1/N)))\n",
    "\n",
    "print(np.round(x_min,4),\"< x <\",np.round(x_max,4))"
   ]
  }
 ],
 "metadata": {
  "interpreter": {
   "hash": "50e16c2f44914c8da2b92774b22a803d1d19d4c43cfd037324ac5d889001e7fd"
  },
  "kernelspec": {
   "display_name": "Python 3.7.4 64-bit",
   "language": "python",
   "name": "python3"
  },
  "language_info": {
   "codemirror_mode": {
    "name": "ipython",
    "version": 3
   },
   "file_extension": ".py",
   "mimetype": "text/x-python",
   "name": "python",
   "nbconvert_exporter": "python",
   "pygments_lexer": "ipython3",
   "version": "3.7.4"
  },
  "orig_nbformat": 4
 },
 "nbformat": 4,
 "nbformat_minor": 2
}
