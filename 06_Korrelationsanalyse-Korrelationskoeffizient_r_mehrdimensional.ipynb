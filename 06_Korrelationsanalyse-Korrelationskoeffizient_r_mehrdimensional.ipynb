{
 "cells": [
  {
   "cell_type": "code",
   "execution_count": 1,
   "metadata": {},
   "outputs": [],
   "source": [
    "import numpy as np\n",
    "import pandas as pd\n",
    "import scipy.io\n",
    "import math\n",
    "from scipy.stats import t       #t-Verteitung\n",
    "from scipy.stats import f       #f-Verteilung \n",
    "from scipy.stats import norm    #Standartnormalverteilung\n",
    "from scipy.stats import chi2    #Chi-Quadrat-Verteilung \n",
    "from scipy import stats\n",
    "import matplotlib.pyplot as plt\n",
    "import seaborn as sns\n",
    "from pandas.plotting import scatter_matrix\n",
    "%matplotlib inline"
   ]
  },
  {
   "cell_type": "code",
   "execution_count": 4,
   "metadata": {},
   "outputs": [],
   "source": [
    "\"\"\"Matlab file laden\"\"\"\n",
    "mat = scipy.io.whosmat('Sportuntersuchung.mat') #whosmat gibt eine Liste mit Variablen aus\n",
    "\n",
    "\"\"\"Gewollte Daten aus dem Matlab file laden\"\"\"\n",
    "data = scipy.io.loadmat('Sportuntersuchung.mat')['data']\n",
    "\n",
    "\"\"\"Pandas Dataframe erstellen\"\"\"\n",
    "df = pd.DataFrame(data, columns = ['Körpergröße', 'Brustumfang', 'Lungenvolumen'])"
   ]
  },
  {
   "cell_type": "markdown",
   "metadata": {},
   "source": [
    "01: Korrelationskoeffizienten-Matrix R\n"
   ]
  },
  {
   "cell_type": "code",
   "execution_count": null,
   "metadata": {},
   "outputs": [],
   "source": [
    "\"\"\"Korrelationskoeffizienten-Matrix: r\"\"\"\n",
    "R = df.corr()\n",
    "R"
   ]
  },
  {
   "cell_type": "markdown",
   "metadata": {},
   "source": [
    "02: Korrelationskoeffizienten-Matrix: p-Values\n"
   ]
  },
  {
   "cell_type": "code",
   "execution_count": 5,
   "metadata": {},
   "outputs": [
    {
     "data": {
      "text/html": [
       "<div>\n",
       "<style scoped>\n",
       "    .dataframe tbody tr th:only-of-type {\n",
       "        vertical-align: middle;\n",
       "    }\n",
       "\n",
       "    .dataframe tbody tr th {\n",
       "        vertical-align: top;\n",
       "    }\n",
       "\n",
       "    .dataframe thead th {\n",
       "        text-align: right;\n",
       "    }\n",
       "</style>\n",
       "<table border=\"1\" class=\"dataframe\">\n",
       "  <thead>\n",
       "    <tr style=\"text-align: right;\">\n",
       "      <th></th>\n",
       "      <th>Körpergröße</th>\n",
       "      <th>Brustumfang</th>\n",
       "      <th>Lungenvolumen</th>\n",
       "    </tr>\n",
       "  </thead>\n",
       "  <tbody>\n",
       "    <tr>\n",
       "      <th>Körpergröße</th>\n",
       "      <td>1.000000</td>\n",
       "      <td>0.022657</td>\n",
       "      <td>0.000002</td>\n",
       "    </tr>\n",
       "    <tr>\n",
       "      <th>Brustumfang</th>\n",
       "      <td>0.022657</td>\n",
       "      <td>1.000000</td>\n",
       "      <td>0.002023</td>\n",
       "    </tr>\n",
       "    <tr>\n",
       "      <th>Lungenvolumen</th>\n",
       "      <td>0.000002</td>\n",
       "      <td>0.002023</td>\n",
       "      <td>1.000000</td>\n",
       "    </tr>\n",
       "  </tbody>\n",
       "</table>\n",
       "</div>"
      ],
      "text/plain": [
       "               Körpergröße  Brustumfang  Lungenvolumen\n",
       "Körpergröße       1.000000     0.022657       0.000002\n",
       "Brustumfang       0.022657     1.000000       0.002023\n",
       "Lungenvolumen     0.000002     0.002023       1.000000"
      ]
     },
     "execution_count": 5,
     "metadata": {},
     "output_type": "execute_result"
    }
   ],
   "source": [
    "\"\"\"Korrelationskoeffizient: p\"\"\"\n",
    "from scipy.stats import kendalltau, pearsonr, spearmanr\n",
    "\n",
    "def kendall_pval(x,y):\n",
    "    return kendalltau(x,y)[1]\n",
    "    \n",
    "def pearsonr_pval(x,y):\n",
    "    return pearsonr(x,y)[1]\n",
    "\n",
    "def spearmanr_pval(x,y):\n",
    "    return spearmanr(x,y)[1]\n",
    "\n",
    "p_Values = df.corr(method=pearsonr_pval)\n",
    "p_Values\n",
    "\n",
    "#print(\"Alle p-Werte liegen unterhalt von alpha = 5 %. Demnach weisen alle Größen untereinander eine signifikante Korrelation auf.\")"
   ]
  }
 ],
 "metadata": {
  "interpreter": {
   "hash": "50e16c2f44914c8da2b92774b22a803d1d19d4c43cfd037324ac5d889001e7fd"
  },
  "kernelspec": {
   "display_name": "Python 3.7.4 64-bit",
   "language": "python",
   "name": "python3"
  },
  "language_info": {
   "codemirror_mode": {
    "name": "ipython",
    "version": 3
   },
   "file_extension": ".py",
   "mimetype": "text/x-python",
   "name": "python",
   "nbconvert_exporter": "python",
   "pygments_lexer": "ipython3",
   "version": "3.7.4"
  },
  "orig_nbformat": 4
 },
 "nbformat": 4,
 "nbformat_minor": 2
}
