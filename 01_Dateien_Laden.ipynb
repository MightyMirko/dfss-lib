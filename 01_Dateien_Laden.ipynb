{
 "cells": [
  {
   "cell_type": "code",
   "execution_count": 1,
   "metadata": {},
   "outputs": [],
   "source": [
    "import numpy as np\n",
    "import pandas as pd\n",
    "import scipy.io\n",
    "import math\n",
    "from scipy.stats import t       #t-Verteitung\n",
    "from scipy.stats import f       #f-Verteilung \n",
    "from scipy.stats import norm    #Standartnormalverteilung\n",
    "from scipy.stats import chi2    #Chi-Quadrat-Verteilung \n",
    "from scipy import stats\n",
    "import matplotlib.pyplot as plt\n",
    "import seaborn as sns\n",
    "from pandas.plotting import scatter_matrix\n",
    "%matplotlib inline"
   ]
  },
  {
   "cell_type": "markdown",
   "metadata": {},
   "source": [
    "00: Daten laden "
   ]
  },
  {
   "cell_type": "code",
   "execution_count": null,
   "metadata": {},
   "outputs": [],
   "source": [
    "\"\"\"CSV file laden\"\"\"\n",
    "csv = pd.read_csv('Waschmitteltest.csv', delimiter=';')\n",
    "\n",
    "\"\"\"Dataframe erstellen\"\"\"\n",
    "df = pd.DataFrame(csv, columns = ['Waschmittel', 'Reinheit'])\n",
    "df[0:5]"
   ]
  },
  {
   "cell_type": "code",
   "execution_count": null,
   "metadata": {},
   "outputs": [],
   "source": [
    "\n",
    "\"\"\"Matlab file laden\"\"\"\n",
    "mat1 = scipy.io.whosmat('AusdehnungKunststoff.mat') #whosmat gibt eine Liste mit Variablen aus\n",
    "mat2 = scipy.io.whosmat('Zugversuch.mat') #whosmat gibt eine Liste mit Variablen aus\n",
    "\n",
    "\"\"\"Gewollte Daten aus dem Matlab file laden und neu anordnen\"\"\"\n",
    "x1 = scipy.io.loadmat('AusdehnungKunststoff.mat')['AusdehnungKunststoff']\n",
    "x1 = np.ravel(x1) #ravel ordnet die Elemente neu an; aus mehreren Arrays wird ein Array\n",
    "\n",
    "\"\"\"Gewollte Daten aus dem Matlab file direkt laden\"\"\"\n",
    "x2 = scipy.io.loadmat('Zugversuch.mat')['zugfestigkeit']"
   ]
  },
  {
   "cell_type": "markdown",
   "metadata": {},
   "source": [
    "01: Daten verarbeiten"
   ]
  },
  {
   "cell_type": "code",
   "execution_count": 5,
   "metadata": {},
   "outputs": [],
   "source": [
    "#Problem: Daten als Array gespeichert wovon die erste Spalte und erste Zeile nicht zu den Messwerbenissen gehören und müssen somit voneinander getrennt werden\n",
    "values = scipy.io.loadmat('Widerstandsdrift.mat')['values']\n",
    "\n",
    "x = values[0,:] #aus Values erste Spalte (Spalte 0 mit allen Einträgen)\n",
    "x = x[1:len(x)] #erster Eintrag im Array wird abgeschnitten (war ein nan)\n",
    "\n",
    "x = np.repeat(x, 10)        #https://numpy.org/doc/stable/reference/generated/numpy.repeat.html #repeat geht jedes Elemnt im Array durch und wiederholt das n (hier 10) mal, dann kommt das nächste Element\n",
    "\n",
    "\n",
    "y = values[1:11, 1:6]       #https://machinelearningmastery.com/index-slice-reshape-numpy-arrays-machine-learning-python/ #y=values[BeginnZeile:EndeZeile, BeginnSpalte:EndeSpalte]\n",
    "y = y.flatten(order='F')    #https://thispointer.com/python-convert-matrix-2d-numpy-array-to-a-1d-numpy-array/ \n",
    "                            #order='F' sorgt dafür, dass die Spalten eines Arrays aneinander gehängt werden; mit order='C' werden die Zeilen nacheinander aneinander gehängt"
   ]
  },
  {
   "cell_type": "code",
   "execution_count": null,
   "metadata": {},
   "outputs": [],
   "source": []
  }
 ],
 "metadata": {
  "interpreter": {
   "hash": "50e16c2f44914c8da2b92774b22a803d1d19d4c43cfd037324ac5d889001e7fd"
  },
  "kernelspec": {
   "display_name": "Python 3.7.4 64-bit",
   "language": "python",
   "name": "python3"
  },
  "language_info": {
   "codemirror_mode": {
    "name": "ipython",
    "version": 3
   },
   "file_extension": ".py",
   "mimetype": "text/x-python",
   "name": "python",
   "nbconvert_exporter": "python",
   "pygments_lexer": "ipython3",
   "version": "3.7.4"
  },
  "orig_nbformat": 4
 },
 "nbformat": 4,
 "nbformat_minor": 2
}
