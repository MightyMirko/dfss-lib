{
 "cells": [
  {
   "cell_type": "markdown",
   "metadata": {},
   "source": [
    "Übersicht: \n",
    "\n",
    "https://www.eit.hs-karlsruhe.de/dfss/statistics/schaetzung-von-unbekannten-parametern-einer-verteilung/konfidenzbereiche-fuer-den-vergleich-von-stichproben/zusammenfassung-der-konfidenzbereiche-fuer-den-vergleich-von-stichproben.html"
   ]
  },
  {
   "cell_type": "code",
   "execution_count": 1,
   "metadata": {},
   "outputs": [],
   "source": [
    "import numpy as np\n",
    "import pandas as pd\n",
    "import scipy.io\n",
    "import math\n",
    "from scipy.stats import t       #t-Verteitung\n",
    "from scipy.stats import f       #f-Verteilung \n",
    "from scipy.stats import norm    #Standartnormalverteilung\n",
    "from scipy.stats import chi2    #Chi-Quadrat-Verteilung \n",
    "from scipy import stats\n",
    "import matplotlib.pyplot as plt\n",
    "import seaborn as sns\n",
    "from pandas.plotting import scatter_matrix\n",
    "%matplotlib inline"
   ]
  },
  {
   "cell_type": "markdown",
   "metadata": {},
   "source": [
    "01: Konfidenzbereich der Differenz der Mittelwerte bei bekannter Varianz für den Verglich von Stichproben"
   ]
  },
  {
   "cell_type": "code",
   "execution_count": null,
   "metadata": {},
   "outputs": [],
   "source": [
    "#https://www.eit.hs-karlsruhe.de/dfss/statistics/schaetzung-von-unbekannten-parametern-einer-verteilung/konfidenzbereiche-fuer-den-vergleich-von-stichproben/konfidenzbereich-der-differenz-der-mittelwerte-bei-bekannter-varianz.html\n",
    "\n",
    "\"\"\"Matlab file laden\"\"\"\n",
    "x1 = scipy.io.loadmat('AbweichungenSoll.mat')['Messung1']\n",
    "x1 = np.ravel(x1) #ravel ordnet die Elemente neu an; aus mehreren Arrays wird ein Array\n",
    "\n",
    "x2 = scipy.io.loadmat('AbweichungenSoll.mat')['Messung2']\n",
    "x2 = np.ravel(x2) #ravel ordnet die Elemente neu an; aus mehreren Arrays wird ein Array\n",
    "\n",
    "N = len(x1)\n",
    "M = len(x2)\n",
    "\n",
    "\"\"\"Wahl einer Konfidenzzahl\"\"\"\n",
    "Gamma = 0.95    #Vorgegeben aus der Aufgabe\n",
    "sigma_quad = 0.5       #Varianz s^2 vorgegeben aus Aufgabe\n",
    "\n",
    "\"\"\"Parameter c1 und c2 aus der inversen Standardnormalverteilung\"\"\"\n",
    "c1 = norm.ppf((1-Gamma)/2)    #Bestimmung von c2 (Umkehrfunktion)\n",
    "c2 = norm.ppf((1+Gamma)/2)    #Bestimmung von c2 (Umkehrfunktion)\n",
    "\n",
    "\"\"\"Mittelwert und Standartabweichung\"\"\"\n",
    "x1_q = np.mean(x1)        #x quer -> Mittelwert der Stichprobe\n",
    "x2_q = np.mean(x2)        #x quer -> Mittelwert der Stichprobe\n",
    "\n",
    "\"\"\"Bestimmung Konfidenzbereich\"\"\"\n",
    "mü_min = (x1_q-x2_q)- c2*np.sqrt(sigma_quad*((1/N)+(1/M)))\n",
    "mü_max = (x1_q-x2_q)- c1*np.sqrt(sigma_quad*((1/N)+(1/M)))\n",
    "\n",
    "print(np.round(mü_min,4),\"< (mü1-mü2) <\",np.round(mü_max,4))"
   ]
  },
  {
   "cell_type": "markdown",
   "metadata": {},
   "source": [
    "02: Konfidenzbereich der Differenz der Mittelwerte bei unbekannter Varianz für den Verglich von Stichproben"
   ]
  },
  {
   "cell_type": "code",
   "execution_count": null,
   "metadata": {},
   "outputs": [],
   "source": [
    "#https://www.eit.hs-karlsruhe.de/dfss/statistics/schaetzung-von-unbekannten-parametern-einer-verteilung/konfidenzbereiche-fuer-den-vergleich-von-stichproben/konfidenzbereich-der-differenz-der-mittelwerte-bei-unbekannter-varianz.html\n",
    "\n",
    "\"\"\"Matlab file laden\"\"\"\n",
    "x1 = scipy.io.loadmat('AbweichungenSoll.mat')['Messung1']\n",
    "x1 = np.ravel(x1) #ravel ordnet die Elemente neu an; aus mehreren Arrays wird ein Array\n",
    "\n",
    "x2 = scipy.io.loadmat('AbweichungenSoll.mat')['Messung2']\n",
    "x2 = np.ravel(x2) #ravel ordnet die Elemente neu an; aus mehreren Arrays wird ein Array\n",
    "\n",
    "N = len(x1)\n",
    "M = len(x2)\n",
    "\n",
    "\"\"\"Wahl einer Konfidenzzahl\"\"\"\n",
    "Gamma = 0.9973    #Vorgegeben aus der Aufgabe\n",
    "\n",
    "\"\"\"Parameter c1 und c2 aus der inversen t-Verteilung mit N + M – 2 Freiheitsgraden\"\"\"\n",
    "c1 = t.ppf((1-Gamma)/2, N+M-2)    #Bestimmung von c1 (Umkehrfunktion)\n",
    "c2 = t.ppf((1+Gamma)/2, N+M-2)    #Bestimmung von c2 (Umkehrfunktion)\n",
    "\n",
    "\"\"\"Berechnung der Mittelwerte aus den Stichproben\"\"\"\n",
    "x1_q = np.mean(x1)        #x quer -> Mittelwert der Stichprobe\n",
    "x2_q = np.mean(x2)        #x quer -> Mittelwert der Stichprobe\n",
    "\n",
    "\"\"\"Berechnung der Varianzen aus den Stichproben\"\"\"\n",
    "s1 = np.std(x1, ddof=1)   #Standartabweichung für Stichproben!\n",
    "s2 = np.std(x2, ddof=1)   #Standartabweichung für Stichproben!\n",
    "\n",
    "\"\"\"Berechnung der Varianz s\"\"\"\n",
    "s_quad_gesamt = ((N-1)*(s1**2) + (M-1)*(s2**2))/(N+M-2)\n",
    "s_gesamt = np.sqrt(s_quad_gesamt)\n",
    "\n",
    "\"\"\"Bestimmung Konfidenzbereich\"\"\"\n",
    "mü_min = (x1_q-x2_q)- c2*np.sqrt(((1/N)+(1/M))) *s_gesamt\n",
    "mü_max = (x1_q-x2_q)- c1*np.sqrt(((1/N)+(1/M))) *s_gesamt\n",
    "\n",
    "#print(\"mü_min=\", np.round(mü_min,4), \"und mü_max=\", np.round(mü_max,4))\n",
    "print(np.round(mü_min,4),\"< (mü1-mü2) <\",np.round(mü_max,4))"
   ]
  },
  {
   "cell_type": "markdown",
   "metadata": {},
   "source": [
    "03: Konfidenzbereich des Verhältnisses der Varianzen für den Verglich von Stichproben"
   ]
  },
  {
   "cell_type": "code",
   "execution_count": 4,
   "metadata": {},
   "outputs": [
    {
     "name": "stdout",
     "output_type": "stream",
     "text": [
      "0.3013 < (sigma1^2/sigma2^2) < 2.6731\n"
     ]
    }
   ],
   "source": [
    "#https://www.eit.hs-karlsruhe.de/dfss/statistics/schaetzung-von-unbekannten-parametern-einer-verteilung/konfidenzbereiche-fuer-den-vergleich-von-stichproben/konfidenzbereich-des-verhaeltnisses-der-varianzen.html\n",
    "\n",
    "\"\"\"Matlab file laden\"\"\"\n",
    "x1 = scipy.io.loadmat('AbweichungenSoll.mat')['Messung1']\n",
    "x1 = np.ravel(x1) #ravel ordnet die Elemente neu an; aus mehreren Arrays wird ein Array\n",
    "\n",
    "x2 = scipy.io.loadmat('AbweichungenSoll.mat')['Messung2']\n",
    "x2 = np.ravel(x2) #ravel ordnet die Elemente neu an; aus mehreren Arrays wird ein Array\n",
    "\n",
    "N = len(x1)\n",
    "M = len(x2)\n",
    "\n",
    "\"\"\"Wahl einer Konfidenzzahl\"\"\"\n",
    "Gamma = 0.95    #Vorgegeben aus der Aufgabe\n",
    "\n",
    "\"\"\"Parameter c1 und c2 aus der inversen t-Verteilung mit N + M – 2 Freiheitsgraden\"\"\"\n",
    "c1 = f.ppf((1-Gamma)/2, N-1, M-1)    #Bestimmung von c1 (Umkehrfunktion)\n",
    "c2 = f.ppf((1+Gamma)/2, N-1, M-1)    #Bestimmung von c2 (Umkehrfunktion)\n",
    "\n",
    "\"\"\"Berechnung der Varianzen aus den Stichproben\"\"\"\n",
    "s1 = np.std(x1, ddof=1)   #Standartabweichung für Stichproben!\n",
    "s2 = np.std(x2, ddof=1)   #Standartabweichung für Stichproben!\n",
    "\n",
    "s1_quad = s1**2\n",
    "s2_quad = s2**2\n",
    "\n",
    "\"\"\"Bestimmung des Konfidenzintervalls\"\"\"\n",
    "sigma_min = (s2_quad/s1_quad)*c1\n",
    "sigma_max = (s2_quad/s1_quad)*c2\n",
    "\n",
    "print(np.round(sigma_min,4),\"< (sigma1^2/sigma2^2) <\",np.round(sigma_max,4))"
   ]
  }
 ],
 "metadata": {
  "interpreter": {
   "hash": "50e16c2f44914c8da2b92774b22a803d1d19d4c43cfd037324ac5d889001e7fd"
  },
  "kernelspec": {
   "display_name": "Python 3.7.4 64-bit",
   "language": "python",
   "name": "python3"
  },
  "language_info": {
   "codemirror_mode": {
    "name": "ipython",
    "version": 3
   },
   "file_extension": ".py",
   "mimetype": "text/x-python",
   "name": "python",
   "nbconvert_exporter": "python",
   "pygments_lexer": "ipython3",
   "version": "3.7.4"
  },
  "orig_nbformat": 4
 },
 "nbformat": 4,
 "nbformat_minor": 2
}
