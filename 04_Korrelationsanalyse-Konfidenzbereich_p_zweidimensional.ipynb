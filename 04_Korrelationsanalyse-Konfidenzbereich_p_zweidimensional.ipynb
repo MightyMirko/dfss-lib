{
 "cells": [
  {
   "cell_type": "code",
   "execution_count": 1,
   "metadata": {},
   "outputs": [],
   "source": [
    "import numpy as np\n",
    "import pandas as pd\n",
    "import scipy.io\n",
    "import math\n",
    "from scipy.stats import t       #t-Verteitung\n",
    "from scipy.stats import f       #f-Verteilung \n",
    "from scipy.stats import norm    #Standartnormalverteilung\n",
    "from scipy.stats import chi2    #Chi-Quadrat-Verteilung \n",
    "from scipy import stats\n",
    "import matplotlib.pyplot as plt\n",
    "import seaborn as sns\n",
    "from pandas.plotting import scatter_matrix\n",
    "%matplotlib inline"
   ]
  },
  {
   "cell_type": "code",
   "execution_count": 3,
   "metadata": {},
   "outputs": [
    {
     "name": "stdout",
     "output_type": "stream",
     "text": [
      "-0.5946 < p < 0.0696\n"
     ]
    }
   ],
   "source": [
    "\"\"\"Matlab file laden\"\"\"\n",
    "mat = scipy.io.whosmat('Gussteile.mat') #whosmat gibt eine Liste mit Variablen aus\n",
    "\n",
    "\"\"\"Gewollte Daten aus dem Matlab file laden\"\"\"\n",
    "data = scipy.io.loadmat('Gussteile.mat')['data']\n",
    "\n",
    "\"\"\"Daten aufteilen\"\"\"\n",
    "x = data[:,0]\n",
    "y = data[:,1]\n",
    "\n",
    "\"\"\"Konfidenzbereich p bestimmen (Aufgabe 9.1 & 9.2)\"\"\"\n",
    "#https://www.eit.hs-karlsruhe.de/dfss/statistics/korrelationsanalyse/bewertung-des-korrelationskoeffizienten/konfidenzbereich-des-korrelationskoeffizienten.html\n",
    "\n",
    "Gamma = 0.95 #Wird durch Aufgabe vorgegeben\n",
    "N = len(x)\n",
    "\n",
    "c1 = norm.ppf((1-Gamma)/2)\n",
    "c2 = norm.ppf((1+Gamma)/2)\n",
    "\n",
    "r = np.corrcoef(x,y)[0,1]\n",
    "\n",
    "r_min = math.tanh(math.atanh(r)-(c2/np.sqrt(N-3)))\n",
    "r_max = math.tanh(math.atanh(r)-(c1/np.sqrt(N-3)))\n",
    "\n",
    "r,r_min,r_max,c1,c2\n",
    "\n",
    "print(np.round(r_min,4),\"< p <\", np.round(r_max,4))"
   ]
  }
 ],
 "metadata": {
  "interpreter": {
   "hash": "50e16c2f44914c8da2b92774b22a803d1d19d4c43cfd037324ac5d889001e7fd"
  },
  "kernelspec": {
   "display_name": "Python 3.7.4 64-bit",
   "language": "python",
   "name": "python3"
  },
  "language_info": {
   "codemirror_mode": {
    "name": "ipython",
    "version": 3
   },
   "file_extension": ".py",
   "mimetype": "text/x-python",
   "name": "python",
   "nbconvert_exporter": "python",
   "pygments_lexer": "ipython3",
   "version": "3.7.4"
  },
  "orig_nbformat": 4
 },
 "nbformat": 4,
 "nbformat_minor": 2
}
