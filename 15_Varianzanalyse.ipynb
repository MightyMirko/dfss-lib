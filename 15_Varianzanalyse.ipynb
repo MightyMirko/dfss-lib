{
 "cells": [
  {
   "cell_type": "code",
   "execution_count": 57,
   "metadata": {},
   "outputs": [],
   "source": [
    "import numpy as np\n",
    "import pandas as pd\n",
    "from scipy.stats import norm    # normal-Verteilung\n",
    "from scipy.stats import t       # t-Verteitung\n",
    "import scipy.io\n",
    "import math\n",
    "from scipy import stats\n",
    "import matplotlib.pyplot as plt\n",
    "import seaborn as sns\n",
    "from pandas.plotting import scatter_matrix\n",
    "import statsmodels.api as sm\n",
    "from statsmodels.formula.api import ols\n",
    "%matplotlib inline"
   ]
  },
  {
   "cell_type": "code",
   "execution_count": 58,
   "metadata": {},
   "outputs": [
    {
     "data": {
      "text/plain": "                      sum_sq    df          F        PR(>F)\nC(temp)         31682.666667   1.0  69.632234  1.337272e-07\nC(mat)           2256.583333   2.0   2.479762  1.118888e-01\nC(temp):C(mat)    588.083333   2.0   0.646245  5.357446e-01\nResidual         8190.000000  18.0        NaN           NaN",
      "text/html": "<div>\n<style scoped>\n    .dataframe tbody tr th:only-of-type {\n        vertical-align: middle;\n    }\n\n    .dataframe tbody tr th {\n        vertical-align: top;\n    }\n\n    .dataframe thead th {\n        text-align: right;\n    }\n</style>\n<table border=\"1\" class=\"dataframe\">\n  <thead>\n    <tr style=\"text-align: right;\">\n      <th></th>\n      <th>sum_sq</th>\n      <th>df</th>\n      <th>F</th>\n      <th>PR(&gt;F)</th>\n    </tr>\n  </thead>\n  <tbody>\n    <tr>\n      <th>C(temp)</th>\n      <td>31682.666667</td>\n      <td>1.0</td>\n      <td>69.632234</td>\n      <td>1.337272e-07</td>\n    </tr>\n    <tr>\n      <th>C(mat)</th>\n      <td>2256.583333</td>\n      <td>2.0</td>\n      <td>2.479762</td>\n      <td>1.118888e-01</td>\n    </tr>\n    <tr>\n      <th>C(temp):C(mat)</th>\n      <td>588.083333</td>\n      <td>2.0</td>\n      <td>0.646245</td>\n      <td>5.357446e-01</td>\n    </tr>\n    <tr>\n      <th>Residual</th>\n      <td>8190.000000</td>\n      <td>18.0</td>\n      <td>NaN</td>\n      <td>NaN</td>\n    </tr>\n  </tbody>\n</table>\n</div>"
     },
     "execution_count": 58,
     "metadata": {},
     "output_type": "execute_result"
    }
   ],
   "source": [
    "\"\"\"CSV file laden\"\"\"\n",
    "csv = pd.read_csv(r'data\\LebensdauerGeneratoren.csv', delimiter=';')\n",
    "\n",
    "\"\"\"Dataframe erstellen\"\"\"\n",
    "df = pd.DataFrame(csv, columns = ['temp', 'mat', 'dauer'])\n",
    "\n",
    "\"\"\"ANOVA Tabelle\"\"\"\n",
    "#hier: \n",
    "#Gesucht der Einfluss von Temperatur auf Dauer C(temp)\n",
    "#Gesucht der Einfluss von Material auf Dauer C(mat)\n",
    "#und Geschut die Wechselwirkung Material und Dauer C(temp)*C(mat)\n",
    "\n",
    "model = ols('dauer ~ C(temp)+C(mat) + C(temp)*C(mat)', data=df).fit() \n",
    "anova_table = sm.stats.anova_lm(model, typ=2)\n",
    "anova_table\n"
   ]
  },
  {
   "cell_type": "markdown",
   "source": [
    "## ANOVA\n",
    "-------------\n",
    "|Streuung | q   | Freiheitsgrad | Varianz | v   | p\n",
    "|--------|-----------|---------------|---------|-----|\n",
    "| zwischen den Gruppen | $q_\\alpha$ | $\\sigma_\\alpha² = \\frac{q_\\alpha}{J-1}$        | $v_0 = \\frac{\\sigma_\\alpha}{\\sigma_\\epsilon}$     |$ p = (v>v_0)$   |\n",
    "| zwischen den Gruppen | $q_\\alpha$ | $\\sigma_\\alpha² = \\frac{q_\\alpha}{J-1}$        |       |   |\n",
    "\n",
    "sum_sq : float64 -\n",
    "    Sum of squares for model terms.\n",
    "df : float64\n",
    "    Degrees of freedom for model terms.\n",
    "F : float64\n",
    "    F statistic value for significance of adding model terms.\n",
    "PR(>F) : float64\n",
    "    P-value for significance of adding model terms.\n",
    "'''"
   ],
   "metadata": {
    "collapsed": false,
    "pycharm": {
     "name": "#%% md\n"
    }
   }
  },
  {
   "cell_type": "markdown",
   "metadata": {},
   "source": [
    "Beschreibung:\n",
    "\n",
    "Liegt der p-Wert oberhalb der Grenze α, kann die Hypothese der gleichen Mittelwerte nicht verworfen werden. Der entsprechende Einflussfaktor wäre entsprechend nicht signifikant.\n",
    "\n",
    "hier: C(temp)*C(mat) nicht signifikant (53%>5%) und C(mat) nicht signifikant (11%>5%)"
   ]
  },
  {
   "cell_type": "code",
   "execution_count": 59,
   "outputs": [
    {
     "data": {
      "text/plain": "<AxesSubplot:title={'center':'dauer'}, xlabel='[temp, mat]'>"
     },
     "execution_count": 59,
     "metadata": {},
     "output_type": "execute_result"
    },
    {
     "data": {
      "text/plain": "<Figure size 864x576 with 1 Axes>",
      "image/png": "[encoded data removed]"
     },
     "metadata": {
      "needs_background": "light"
     },
     "output_type": "display_data"
    }
   ],
   "source": [
    "df.boxplot( grid=True,  figsize=(12,8), column=['dauer'], by=['temp', 'mat'])"
   ],
   "metadata": {
    "collapsed": false,
    "pycharm": {
     "name": "#%%\n"
    }
   }
  },
  {
   "cell_type": "code",
   "execution_count": 60,
   "outputs": [
    {
     "data": {
      "text/plain": "            temp        mat       dauer\ncount  24.000000  24.000000   24.000000\nmean   14.000000   2.000000  100.666667\nstd     4.086031   0.834058   43.096118\nmin    10.000000   1.000000   38.000000\n25%    10.000000   1.000000   63.000000\n50%    14.000000   2.000000   89.500000\n75%    18.000000   3.000000  138.500000\nmax    18.000000   3.000000  176.000000",
      "text/html": "<div>\n<style scoped>\n    .dataframe tbody tr th:only-of-type {\n        vertical-align: middle;\n    }\n\n    .dataframe tbody tr th {\n        vertical-align: top;\n    }\n\n    .dataframe thead th {\n        text-align: right;\n    }\n</style>\n<table border=\"1\" class=\"dataframe\">\n  <thead>\n    <tr style=\"text-align: right;\">\n      <th></th>\n      <th>temp</th>\n      <th>mat</th>\n      <th>dauer</th>\n    </tr>\n  </thead>\n  <tbody>\n    <tr>\n      <th>count</th>\n      <td>24.000000</td>\n      <td>24.000000</td>\n      <td>24.000000</td>\n    </tr>\n    <tr>\n      <th>mean</th>\n      <td>14.000000</td>\n      <td>2.000000</td>\n      <td>100.666667</td>\n    </tr>\n    <tr>\n      <th>std</th>\n      <td>4.086031</td>\n      <td>0.834058</td>\n      <td>43.096118</td>\n    </tr>\n    <tr>\n      <th>min</th>\n      <td>10.000000</td>\n      <td>1.000000</td>\n      <td>38.000000</td>\n    </tr>\n    <tr>\n      <th>25%</th>\n      <td>10.000000</td>\n      <td>1.000000</td>\n      <td>63.000000</td>\n    </tr>\n    <tr>\n      <th>50%</th>\n      <td>14.000000</td>\n      <td>2.000000</td>\n      <td>89.500000</td>\n    </tr>\n    <tr>\n      <th>75%</th>\n      <td>18.000000</td>\n      <td>3.000000</td>\n      <td>138.500000</td>\n    </tr>\n    <tr>\n      <th>max</th>\n      <td>18.000000</td>\n      <td>3.000000</td>\n      <td>176.000000</td>\n    </tr>\n  </tbody>\n</table>\n</div>"
     },
     "execution_count": 60,
     "metadata": {},
     "output_type": "execute_result"
    }
   ],
   "source": [
    "df.describe()"
   ],
   "metadata": {
    "collapsed": false,
    "pycharm": {
     "name": "#%%\n"
    }
   }
  },
  {
   "cell_type": "code",
   "execution_count": 61,
   "outputs": [
    {
     "name": "stdout",
     "output_type": "stream",
     "text": [
      "    temp  mat  dauer\n",
      "0     10    1    135\n",
      "1     10    1    150\n",
      "2     10    1    176\n",
      "3     10    1     85\n",
      "4     18    1     50\n",
      "5     18    1     55\n",
      "6     18    1     64\n",
      "7     18    1     38\n",
      "8     10    2    150\n",
      "9     10    2    162\n",
      "10    10    2    171\n",
      "11    10    2    120\n",
      "12    18    2     76\n",
      "13    18    2     88\n",
      "14    18    2     91\n",
      "15    18    2     57\n",
      "16    10    3    138\n",
      "17    10    3    111\n",
      "18    10    3    140\n",
      "19    10    3    106\n",
      "20    18    3     68\n",
      "21    18    3     60\n",
      "22    18    3     74\n",
      "23    18    3     51\n"
     ]
    },
    {
     "data": {
      "text/plain": "temp      4.086031\nmat       0.834058\ndauer    43.096118\ndtype: float64"
     },
     "execution_count": 61,
     "metadata": {},
     "output_type": "execute_result"
    }
   ],
   "source": [
    "print(df)\n",
    "df.std(ddof=1)"
   ],
   "metadata": {
    "collapsed": false,
    "pycharm": {
     "name": "#%%\n"
    }
   }
  },
  {
   "cell_type": "code",
   "execution_count": 62,
   "outputs": [
    {
     "data": {
      "text/plain": "   variable  value\n0      temp     10\n1      temp     10\n2      temp     10\n3      temp     10\n4      temp     18\n..      ...    ...\n67    dauer    106\n68    dauer     68\n69    dauer     60\n70    dauer     74\n71    dauer     51\n\n[72 rows x 2 columns]",
      "text/html": "<div>\n<style scoped>\n    .dataframe tbody tr th:only-of-type {\n        vertical-align: middle;\n    }\n\n    .dataframe tbody tr th {\n        vertical-align: top;\n    }\n\n    .dataframe thead th {\n        text-align: right;\n    }\n</style>\n<table border=\"1\" class=\"dataframe\">\n  <thead>\n    <tr style=\"text-align: right;\">\n      <th></th>\n      <th>variable</th>\n      <th>value</th>\n    </tr>\n  </thead>\n  <tbody>\n    <tr>\n      <th>0</th>\n      <td>temp</td>\n      <td>10</td>\n    </tr>\n    <tr>\n      <th>1</th>\n      <td>temp</td>\n      <td>10</td>\n    </tr>\n    <tr>\n      <th>2</th>\n      <td>temp</td>\n      <td>10</td>\n    </tr>\n    <tr>\n      <th>3</th>\n      <td>temp</td>\n      <td>10</td>\n    </tr>\n    <tr>\n      <th>4</th>\n      <td>temp</td>\n      <td>18</td>\n    </tr>\n    <tr>\n      <th>...</th>\n      <td>...</td>\n      <td>...</td>\n    </tr>\n    <tr>\n      <th>67</th>\n      <td>dauer</td>\n      <td>106</td>\n    </tr>\n    <tr>\n      <th>68</th>\n      <td>dauer</td>\n      <td>68</td>\n    </tr>\n    <tr>\n      <th>69</th>\n      <td>dauer</td>\n      <td>60</td>\n    </tr>\n    <tr>\n      <th>70</th>\n      <td>dauer</td>\n      <td>74</td>\n    </tr>\n    <tr>\n      <th>71</th>\n      <td>dauer</td>\n      <td>51</td>\n    </tr>\n  </tbody>\n</table>\n<p>72 rows × 2 columns</p>\n</div>"
     },
     "execution_count": 62,
     "metadata": {},
     "output_type": "execute_result"
    }
   ],
   "source": [
    "test = pd.melt(df)\n",
    "test"
   ],
   "metadata": {
    "collapsed": false,
    "pycharm": {
     "name": "#%%\n"
    }
   }
  }
 ],
 "metadata": {
  "interpreter": {
   "hash": "50e16c2f44914c8da2b92774b22a803d1d19d4c43cfd037324ac5d889001e7fd"
  },
  "kernelspec": {
   "display_name": "Python 3.7.4 64-bit",
   "language": "python",
   "name": "python3"
  },
  "language_info": {
   "codemirror_mode": {
    "name": "ipython",
    "version": 3
   },
   "file_extension": ".py",
   "mimetype": "text/x-python",
   "name": "python",
   "nbconvert_exporter": "python",
   "pygments_lexer": "ipython3",
   "version": "3.7.4"
  },
  "orig_nbformat": 4
 },
 "nbformat": 4,
 "nbformat_minor": 2
}