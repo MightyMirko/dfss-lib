{
 "cells": [
  {
   "cell_type": "code",
   "execution_count": 2,
   "metadata": {},
   "outputs": [],
   "source": [
    "import numpy as np\n",
    "import pandas as pd\n",
    "from scipy.stats import norm    # normal-Verteilung\n",
    "from scipy.stats import t       # t-Verteitung\n",
    "import scipy.io\n",
    "import math\n",
    "from scipy import stats\n",
    "import matplotlib.pyplot as plt\n",
    "import seaborn as sns\n",
    "from pandas.plotting import scatter_matrix\n",
    "import statsmodels.api as sm\n",
    "from statsmodels.formula.api import ols\n",
    "%matplotlib inline"
   ]
  },
  {
   "cell_type": "code",
   "execution_count": 3,
   "metadata": {},
   "outputs": [
    {
     "data": {
      "text/html": [
       "<div>\n",
       "<style scoped>\n",
       "    .dataframe tbody tr th:only-of-type {\n",
       "        vertical-align: middle;\n",
       "    }\n",
       "\n",
       "    .dataframe tbody tr th {\n",
       "        vertical-align: top;\n",
       "    }\n",
       "\n",
       "    .dataframe thead th {\n",
       "        text-align: right;\n",
       "    }\n",
       "</style>\n",
       "<table border=\"1\" class=\"dataframe\">\n",
       "  <thead>\n",
       "    <tr style=\"text-align: right;\">\n",
       "      <th></th>\n",
       "      <th>sum_sq</th>\n",
       "      <th>df</th>\n",
       "      <th>F</th>\n",
       "      <th>PR(&gt;F)</th>\n",
       "    </tr>\n",
       "  </thead>\n",
       "  <tbody>\n",
       "    <tr>\n",
       "      <th>C(temp)</th>\n",
       "      <td>31682.666667</td>\n",
       "      <td>1.0</td>\n",
       "      <td>69.632234</td>\n",
       "      <td>1.337272e-07</td>\n",
       "    </tr>\n",
       "    <tr>\n",
       "      <th>C(mat)</th>\n",
       "      <td>2256.583333</td>\n",
       "      <td>2.0</td>\n",
       "      <td>2.479762</td>\n",
       "      <td>1.118888e-01</td>\n",
       "    </tr>\n",
       "    <tr>\n",
       "      <th>C(temp):C(mat)</th>\n",
       "      <td>588.083333</td>\n",
       "      <td>2.0</td>\n",
       "      <td>0.646245</td>\n",
       "      <td>5.357446e-01</td>\n",
       "    </tr>\n",
       "    <tr>\n",
       "      <th>Residual</th>\n",
       "      <td>8190.000000</td>\n",
       "      <td>18.0</td>\n",
       "      <td>NaN</td>\n",
       "      <td>NaN</td>\n",
       "    </tr>\n",
       "  </tbody>\n",
       "</table>\n",
       "</div>"
      ],
      "text/plain": [
       "                      sum_sq    df          F        PR(>F)\n",
       "C(temp)         31682.666667   1.0  69.632234  1.337272e-07\n",
       "C(mat)           2256.583333   2.0   2.479762  1.118888e-01\n",
       "C(temp):C(mat)    588.083333   2.0   0.646245  5.357446e-01\n",
       "Residual         8190.000000  18.0        NaN           NaN"
      ]
     },
     "execution_count": 3,
     "metadata": {},
     "output_type": "execute_result"
    }
   ],
   "source": [
    "\"\"\"CSV file laden\"\"\"\n",
    "csv = pd.read_csv('LebensdauerGeneratoren.csv', delimiter=';')\n",
    "\n",
    "\"\"\"Dataframe erstellen\"\"\"\n",
    "df = pd.DataFrame(csv, columns = ['temp', 'mat', 'dauer'])\n",
    "\n",
    "\"\"\"ANOVA Tabelle\"\"\"\n",
    "#hier: \n",
    "#Gesucht der Einfluss von Temperatur au Dauer C(temp)\n",
    "#Gesucht der Einfluss von Material auf Dauer C(mat)\n",
    "#und Geschut die Wechselwirkung Material und Dauer C(temp)*C(mat)\n",
    "model = ols('dauer ~ C(temp)+C(mat) + C(temp)*C(mat)', data=df).fit() \n",
    "anova_table = sm.stats.anova_lm(model, typ=2)\n",
    "anova_table\n"
   ]
  },
  {
   "cell_type": "markdown",
   "metadata": {},
   "source": [
    "Beschreibung:\n",
    "\n",
    "Liegt der p-Wert oberhalb der Grenze α, kann die Hypothese der gleichen Mittelwerte nicht verworfen werden. Der entsprechende Einflussfaktor wäre entsprechend nicht signifikant.\n",
    "\n",
    "hier: C(temp)*C(mat) nicht signifikant (53%>5%) und C(mat) nicht signifikant (11%>5%)\n"
   ]
  }
 ],
 "metadata": {
  "interpreter": {
   "hash": "50e16c2f44914c8da2b92774b22a803d1d19d4c43cfd037324ac5d889001e7fd"
  },
  "kernelspec": {
   "display_name": "Python 3.7.4 64-bit",
   "language": "python",
   "name": "python3"
  },
  "language_info": {
   "codemirror_mode": {
    "name": "ipython",
    "version": 3
   },
   "file_extension": ".py",
   "mimetype": "text/x-python",
   "name": "python",
   "nbconvert_exporter": "python",
   "pygments_lexer": "ipython3",
   "version": "3.7.4"
  },
  "orig_nbformat": 4
 },
 "nbformat": 4,
 "nbformat_minor": 2
}
