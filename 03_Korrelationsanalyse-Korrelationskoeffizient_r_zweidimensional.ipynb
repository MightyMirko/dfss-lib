{
 "cells": [
  {
   "cell_type": "code",
   "execution_count": 1,
   "metadata": {},
   "outputs": [],
   "source": [
    "import numpy as np\n",
    "import pandas as pd\n",
    "import scipy.io\n",
    "import math\n",
    "from scipy.stats import t       #t-Verteitung\n",
    "from scipy.stats import f       #f-Verteilung \n",
    "from scipy.stats import norm    #Standartnormalverteilung\n",
    "from scipy.stats import chi2    #Chi-Quadrat-Verteilung \n",
    "from scipy import stats\n",
    "import matplotlib.pyplot as plt\n",
    "import seaborn as sns\n",
    "from pandas.plotting import scatter_matrix\n",
    "%matplotlib inline"
   ]
  },
  {
   "cell_type": "code",
   "execution_count": 4,
   "metadata": {},
   "outputs": [
    {
     "data": {
      "text/plain": [
       "-0.2981721796802153"
      ]
     },
     "execution_count": 4,
     "metadata": {},
     "output_type": "execute_result"
    }
   ],
   "source": [
    "\"\"\"Matlab file laden\"\"\"\n",
    "mat = scipy.io.whosmat('Gussteile.mat') #whosmat gibt eine Liste mit Variablen aus\n",
    "\n",
    "\"\"\"Gewollte Daten aus dem Matlab file laden\"\"\"\n",
    "data = scipy.io.loadmat('Gussteile.mat')['data']\n",
    "\n",
    "\"\"\"Daten aufteilen\"\"\"\n",
    "x = data[:,0]\n",
    "y = data[:,1]\n",
    "\n",
    "\"\"\"Korrelationskoeffizient r\"\"\"\n",
    "r = np.corrcoef(x,y)[0,1]\n",
    "r"
   ]
  }
 ],
 "metadata": {
  "interpreter": {
   "hash": "50e16c2f44914c8da2b92774b22a803d1d19d4c43cfd037324ac5d889001e7fd"
  },
  "kernelspec": {
   "display_name": "Python 3.7.4 64-bit",
   "language": "python",
   "name": "python3"
  },
  "language_info": {
   "codemirror_mode": {
    "name": "ipython",
    "version": 3
   },
   "file_extension": ".py",
   "mimetype": "text/x-python",
   "name": "python",
   "nbconvert_exporter": "python",
   "pygments_lexer": "ipython3",
   "version": "3.7.4"
  },
  "orig_nbformat": 4
 },
 "nbformat": 4,
 "nbformat_minor": 2
}
