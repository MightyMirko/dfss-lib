{
 "cells": [
  {
   "cell_type": "code",
   "execution_count": 2,
   "metadata": {},
   "outputs": [],
   "source": [
    "import numpy as np\n",
    "import pandas as pd\n",
    "import scipy.io\n",
    "import math\n",
    "from scipy.stats import t       #t-Verteitung\n",
    "from scipy.stats import f       #f-Verteilung \n",
    "from scipy.stats import norm    #Standartnormalverteilung\n",
    "from scipy.stats import chi2    #Chi-Quadrat-Verteilung \n",
    "from scipy import stats\n",
    "import matplotlib.pyplot as plt\n",
    "import seaborn as sns\n",
    "from pandas.plotting import scatter_matrix\n",
    "%matplotlib inline"
   ]
  },
  {
   "cell_type": "code",
   "execution_count": 3,
   "metadata": {},
   "outputs": [
    {
     "name": "stdout",
     "output_type": "stream",
     "text": [
      "mü_min= 18.7868 und mü_max= 20.3767\n",
      "18.78675669614893 < mü < 20.376743303851068\n"
     ]
    }
   ],
   "source": [
    "\"\"\"Konfidenzbereich des Mittelwertes bei unbekannter Varianz\"\"\"\n",
    "#https://www.eit.hs-karlsruhe.de/dfss/statistics/schaetzung-von-unbekannten-parametern-einer-verteilung/konfidenzbereiche-fuer-die-schaetzung-von-parametern/konfidenzbereich-des-mittelwertes-bei-unbekannter-varianz.html\n",
    "\n",
    "x = scipy.io.loadmat('AusdehnungKunststoff.mat')['AusdehnungKunststoff']\n",
    "x = np.ravel(x) #ravel ordnet die Elemente neu an; aus mehreren Arrays wird ein Array\n",
    "\n",
    "Gamma = 0.95    #Vorgegeben aus der Aufgabe\n",
    "N = len(x)\n",
    "\n",
    "\"\"\"Grenzen\"\"\"\n",
    "c1 = t.ppf((1-Gamma)/2, N-1)    #Bestimmung von c2 (Umkehrfunktion)\n",
    "c2 = t.ppf((1+Gamma)/2, N-1)    #Bestimmung von c2 (Umkehrfunktion)\n",
    "\n",
    "\"\"\"Mittelwert und Standartabweichung\"\"\"\n",
    "s = np.std(x, ddof=1)   #s -> Varianz der Sticprobe. VORSICHT: nicht std.var() benuten!\n",
    "xq = np.mean(x)        #x quer -> Mittelwert der Stichprobe\n",
    "\n",
    "\"\"\"Bestimmung Konfidenzbereich\"\"\"\n",
    "mü_min = xq - (c2*s)/(np.sqrt(N))\n",
    "mü_max = xq - (c1*s)/(np.sqrt(N))\n",
    "\n",
    "\n",
    "print(np.round(mü_min,4),\"< mü <\",np.round(mü_max,4))"
   ]
  },
  {
   "cell_type": "code",
   "execution_count": 5,
   "metadata": {},
   "outputs": [
    {
     "name": "stdout",
     "output_type": "stream",
     "text": [
      "4.1464 < sigma^2 < 10.1878\n"
     ]
    }
   ],
   "source": [
    "\"\"\"Konfidenzbereich der Varianz\"\"\"\n",
    "#https://www.eit.hs-karlsruhe.de/dfss/statistics/schaetzung-von-unbekannten-parametern-einer-verteilung/konfidenzbereiche-fuer-die-schaetzung-von-parametern/konfidenzbereich-der-varianz.html\n",
    "\n",
    "x = scipy.io.loadmat('AusdehnungKunststoff.mat')['AusdehnungKunststoff']\n",
    "x = np.ravel(x) #ravel ordnet die Elemente neu an; aus mehreren Arrays wird ein Array\n",
    "\n",
    "Gamma = 0.95    #Vorgegeben aus der Aufgabe\n",
    "N = len(x)\n",
    "\n",
    "\"\"\"Grenzen\"\"\"\n",
    "c1 = chi2.ppf((1-Gamma)/2, df=N-1)     #Bestimmung von c1 (Umkehrfunktion))\n",
    "c2 = chi2.ppf((1+Gamma)/2, df=N-1)     #Bestimmung von c2 (Umkehrfunktion))\n",
    "\n",
    "\"\"\"Mittelwert und Standartabweichung\"\"\"\n",
    "s = np.std(x, ddof=1)   #s -> Varianz der Sticprobe. VORSICHT: nicht std.var() benuten!\n",
    "xq = np.mean(x)        #x quer -> Mittelwert der Stichprobe\n",
    "\n",
    "sigq_min = (np.power(s,2)*(N-1))/c2\n",
    "sigq_max = (np.power(s,2)*(N-1))/c1\n",
    "\n",
    "\n",
    "print(np.round(sigq_min,4),\"< sigma^2 <\",np.round(sigq_max,4))\n"
   ]
  },
  {
   "cell_type": "code",
   "execution_count": 6,
   "metadata": {},
   "outputs": [
    {
     "name": "stdout",
     "output_type": "stream",
     "text": [
      "18.0323 < mü < 21.1312\n"
     ]
    }
   ],
   "source": [
    "\"\"\"Konfidenzbereich des Mittelwertes bei bekannter Varianz\"\"\"\n",
    "#https://www.eit.hs-karlsruhe.de/dfss/statistics/schaetzung-von-unbekannten-parametern-einer-verteilung/konfidenzbereiche-fuer-die-schaetzung-von-parametern/konfidenzbereich-des-mittelwertes-bei-bekannter-varianz.html\n",
    "\n",
    "x = scipy.io.loadmat('AusdehnungKunststoff.mat')['AusdehnungKunststoff']\n",
    "x = np.ravel(x) #ravel ordnet die Elemente neu an; aus mehreren Arrays wird ein Array\n",
    "\n",
    "Gamma = 0.95    #Vorgegeben aus der Aufgabe\n",
    "Sigma = 5       #Vorgegeben aus der Aufgabe\n",
    "\n",
    "N = len(x)\n",
    "\n",
    "\"\"\"Grenzen\"\"\"\n",
    "c1 = norm.ppf((1-Gamma)/2)  #Bestimmung von c1 (Umkehrfunktion)\n",
    "c2 = norm.ppf((1+Gamma)/2)  #Bestimmung von c2 (Umkehrfunktion)\n",
    "\n",
    "\"\"\"Mittelwert und Standartabweichung\"\"\"\n",
    "xq = np.mean(x)        #x quer -> Mittelwert der Stichprobe\n",
    "\n",
    "\"\"\"Bestimmung Konfidenzbereich\"\"\"\n",
    "mü_min = xq - (c2*Sigma)/(np.sqrt(N))\n",
    "mü_max = xq - (c1*Sigma)/(np.sqrt(N))\n",
    "\n",
    "#print(\"mü_min=\", np.round(mü_min,4), \"und mü_max=\", np.round(mü_max,4))\n",
    "print(np.round(mü_min,4),\"< mü <\",np.round(mü_max,4))"
   ]
  }
 ],
 "metadata": {
  "interpreter": {
   "hash": "50e16c2f44914c8da2b92774b22a803d1d19d4c43cfd037324ac5d889001e7fd"
  },
  "kernelspec": {
   "display_name": "Python 3.7.4 64-bit",
   "language": "python",
   "name": "python3"
  },
  "language_info": {
   "codemirror_mode": {
    "name": "ipython",
    "version": 3
   },
   "file_extension": ".py",
   "mimetype": "text/x-python",
   "name": "python",
   "nbconvert_exporter": "python",
   "pygments_lexer": "ipython3",
   "version": "3.7.4"
  },
  "orig_nbformat": 4
 },
 "nbformat": 4,
 "nbformat_minor": 2
}
