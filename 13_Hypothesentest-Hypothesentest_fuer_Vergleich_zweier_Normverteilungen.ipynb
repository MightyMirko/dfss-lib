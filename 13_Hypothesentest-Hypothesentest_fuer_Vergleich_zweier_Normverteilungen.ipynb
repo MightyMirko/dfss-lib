{
 "cells": [
  {
   "cell_type": "markdown",
   "metadata": {},
   "source": [
    "Übersicht:\n",
    "\n",
    "https://www.eit.hs-karlsruhe.de/dfss/statistics/hypothesentest/hypothesentests-fuer-den-vergleich-zweier-normalverteilungen/zusammenfassung-der-hypothesentests-fuer-den-vergleich-zweier-normalverteilungen.html"
   ]
  },
  {
   "cell_type": "code",
   "execution_count": 10,
   "metadata": {},
   "outputs": [],
   "source": [
    "import numpy as np\n",
    "import pandas as pd\n",
    "import scipy.io\n",
    "import math\n",
    "from scipy.stats import t       #t-Verteitung\n",
    "from scipy.stats import f       #f-Verteilung \n",
    "from scipy.stats import norm    #Standartnormalverteilung\n",
    "from scipy.stats import chi2    #Chi-Quadrat-Verteilung \n",
    "from scipy import stats\n",
    "import matplotlib.pyplot as plt\n",
    "import seaborn as sns\n",
    "from pandas.plotting import scatter_matrix\n",
    "%matplotlib inline"
   ]
  },
  {
   "cell_type": "markdown",
   "metadata": {},
   "source": [
    "01: Test auf gleiche Mittelwerte bei bekannter Varianz (Zwei-Stichproben-z-Test)"
   ]
  },
  {
   "cell_type": "code",
   "execution_count": 11,
   "metadata": {},
   "outputs": [
    {
     "name": "stdout",
     "output_type": "stream",
     "text": [
      "-0.0211 < x_q < 0.0211\n"
     ]
    }
   ],
   "source": [
    "#https://www.eit.hs-karlsruhe.de/dfss/statistics/hypothesentest/hypothesentests-fuer-den-vergleich-zweier-normalverteilungen/test-auf-gleiche-mittelwerte-bei-bekannter-varianz-zwei-stichproben-z-test.html\n",
    "\n",
    "\"\"\"Matlab file laden\"\"\"\n",
    "x1 = scipy.io.loadmat('Schmelzwaerme.mat')['VA']\n",
    "x1 = np.ravel(x1) #ravel ordnet die Elemente neu an; aus mehreren Arrays wird ein Array\n",
    "\n",
    "x2 = scipy.io.loadmat('Schmelzwaerme.mat')['VB']\n",
    "x2 = np.ravel(x2) #ravel ordnet die Elemente neu an; aus mehreren Arrays wird ein Array\n",
    "\n",
    "N = len(x1)\n",
    "M = len(x2)\n",
    "\n",
    "\"\"\"Wahl eines Signifikanzniveaus \"\"\"\n",
    "alpha = 0.05        #Entweder vorgegeben oder selber wählen (5% ist Std)\n",
    "Gamma = 1- alpha\n",
    "\n",
    "\"\"\"Parameter c1 und c2 aus der inversen Standardnormalverteilung\"\"\"\n",
    "c1 = norm.ppf((1-Gamma)/2)    #Bestimmung von c1 (Umkehrfunktion)\n",
    "c2 = norm.ppf((1+Gamma)/2)    #Bestimmung von c2 (Umkehrfunktion)\n",
    "\n",
    "\"\"\"Berechnung des Mittelwertes aus der Stichprobe\"\"\"\n",
    "x1_q = np.mean(x1)\n",
    "x2_q = np.mean(x2)\n",
    "\n",
    "x0 = x1_q - x2_q\n",
    "\n",
    "\"\"\"Nullhypothese\"\"\"\n",
    "mü0 = 0     #mü1-mü2 = mü0 \n",
    "\n",
    "\"\"\"Vorgabewerte\"\"\"\n",
    "sigma = 0.024   #Vorgabe aus Aufgabe. Anpassen!\n",
    "sigma_quad = sigma**2\n",
    "\n",
    "\"\"\"Bestimmung der Annahmegrenzen\"\"\"\n",
    "mü_c1 = mü0 + c1* np.sqrt(sigma_quad * ((1/N)+(1/M)))\n",
    "mü_c2 = mü0 + c2* np.sqrt(sigma_quad * ((1/N)+(1/M)))\n",
    "\n",
    "print(np.round(mü_c1,4),\"< x_q <\",np.round(mü_c2,4))"
   ]
  },
  {
   "cell_type": "markdown",
   "metadata": {},
   "source": [
    "02: Test auf gleiche Mittelwerte bei unbekannter Varianz (Zwei-Stichproben-t-Test)"
   ]
  },
  {
   "cell_type": "code",
   "execution_count": 12,
   "metadata": {},
   "outputs": [
    {
     "name": "stdout",
     "output_type": "stream",
     "text": [
      "-0.0262 < x_q < 0.0262\n"
     ]
    }
   ],
   "source": [
    "#https://www.eit.hs-karlsruhe.de/dfss/statistics/hypothesentest/hypothesentests-fuer-den-vergleich-zweier-normalverteilungen/test-auf-gleiche-mittelwerte-bei-unbekannter-varianz-zwei-stichproben-t-test.html\n",
    "\"\"\"Matlab file laden\"\"\"\n",
    "x1 = scipy.io.loadmat('Schmelzwaerme.mat')['VA']\n",
    "x1 = np.ravel(x1) #ravel ordnet die Elemente neu an; aus mehreren Arrays wird ein Array\n",
    "\n",
    "x2 = scipy.io.loadmat('Schmelzwaerme.mat')['VB']\n",
    "x2 = np.ravel(x2) #ravel ordnet die Elemente neu an; aus mehreren Arrays wird ein Array\n",
    "\n",
    "N = len(x1)\n",
    "M = len(x2)\n",
    "\n",
    "\"\"\"Wahl eines Signifikanzniveaus \"\"\"\n",
    "alpha = 0.05        #Entweder vorgegeben oder selber wählen (5% ist Std)\n",
    "Gamma = 1- alpha\n",
    "\n",
    "\"\"\"Parameter c1 und c2 aus der  inversen t-Verteilung mit N + M - 2 Freiheitsgraden\"\"\"\n",
    "c1 = t.ppf((1-Gamma)/2, N+M-2)    #Bestimmung von c1 (Umkehrfunktion)\n",
    "c2 = t.ppf((1+Gamma)/2, N+M-2)    #Bestimmung von c2 (Umkehrfunktion)\n",
    "\n",
    "\"\"\"Berechnung des Mittelwertes aus der Stichprobe\"\"\"\n",
    "x1_q = np.mean(x1)\n",
    "x2_q = np.mean(x2)\n",
    "\n",
    "x0 = x1_q - x2_q\n",
    "\n",
    "\"\"\"Berechnung der Varianz der Stichproben\"\"\"\n",
    "s1 = np.std(x1, ddof=1)\n",
    "s2 = np.std(x2, ddof=1)\n",
    "\n",
    "s_quad = ((N-1)*(s1**2) + (M-1)*(s2**2))/(N+M-2)\n",
    "s = np.sqrt(s_quad)\n",
    "\n",
    "\"\"\"Nullhypothese\"\"\"\n",
    "mü0 = 0     #mü1-mü2 = mü0 Anpassen!\n",
    "\n",
    "\"\"\"Bestimmung der Annahmegrenzen\"\"\"\n",
    "mü_c1 = mü0 + c1* np.sqrt((1/N)+(1/M))* s\n",
    "mü_c2 = mü0 + c2* np.sqrt((1/N)+(1/M))* s\n",
    "\n",
    "print(np.round(mü_c1,4),\"< x_q <\",np.round(mü_c2,4))\n",
    "\n",
    "\"\"\"Berechnung des p-Values mit der t-Verteilung\"\"\"\n",
    "p = t.cdf((x0-mü0)/(np.sqrt(((1/N)+(1/M)))*s), N+M-2)"
   ]
  },
  {
   "cell_type": "markdown",
   "metadata": {},
   "source": [
    "03: Test auf gleiche Varianz zweier Normalverteilungen (F-Test)"
   ]
  },
  {
   "cell_type": "code",
   "execution_count": 13,
   "metadata": {},
   "outputs": [
    {
     "name": "stdout",
     "output_type": "stream",
     "text": [
      "0.3494 < s1^2/s2^2 < 2.8621\n"
     ]
    }
   ],
   "source": [
    "#https://www.eit.hs-karlsruhe.de/dfss/statistics/hypothesentest/hypothesentests-fuer-den-vergleich-zweier-normalverteilungen/test-auf-gleiche-varianz-zweier-normalverteilungen-f-test.html\n",
    "\"\"\"Matlab file laden\"\"\"\n",
    "x1 = scipy.io.loadmat('Schmelzwaerme.mat')['VA']\n",
    "x1 = np.ravel(x1) #ravel ordnet die Elemente neu an; aus mehreren Arrays wird ein Array\n",
    "\n",
    "x2 = scipy.io.loadmat('Schmelzwaerme.mat')['VB']\n",
    "x2 = np.ravel(x2) #ravel ordnet die Elemente neu an; aus mehreren Arrays wird ein Array\n",
    "\n",
    "N = len(x1)\n",
    "M = len(x2)\n",
    "\n",
    "N=16\n",
    "M=16\n",
    "\n",
    "\"\"\"Wahl eines Signifikanzniveaus \"\"\"\n",
    "alpha = 0.05        #Entweder vorgegeben oder selber wählen (5% ist Std)\n",
    "Gamma = 1- alpha\n",
    "\n",
    "\"\"\"Parameter c1 und c2 aus der inversen f-Verteilung mit (N - 1|M - 1) Freiheitsgraden\"\"\"\n",
    "c1 = f.ppf(alpha/2, N-1, M-1)    #Bestimmung von c1 (Umkehrfunktion)\n",
    "c2 = f.ppf((1-(alpha/2)), N-1, M-1)    #Bestimmung von c2 (Umkehrfunktion)\n",
    "\n",
    "\"\"\"Berechnung der Stichprobenvarianzen\"\"\"\n",
    "s1 = np.std(x1, ddof=1)\n",
    "s2 = np.std(x2, ddof=1)\n",
    "\n",
    "s1_quad = s1**2\n",
    "s2_quad = s2**2\n",
    "\n",
    "s1_quad = 0.001382\n",
    "s2_quad = 0.000433\n",
    "\n",
    "\"\"\"Nullhypothese\"\"\"\n",
    "v0 = 1  #Sigma1^2 = Sigma2^2 -> v0 =1\n",
    "\n",
    "\"\"\"Bestimmung des Annahmebereichs\"\"\"\n",
    "sig12_min = c1*v0\n",
    "sig12_max = c2*v0\n",
    "\n",
    "\n",
    "print(np.round(sig12_min,4),\"< s1^2/s2^2 <\",np.round(sig12_max,4))\n",
    "\n",
    "\"\"\"Berechnung des p-Values mit der t-Verteilung\"\"\"\n",
    "p = 1-f.cdf((s1_quad/s2_quad)*(1/v0), N-1, M-1)"
   ]
  }
 ],
 "metadata": {
  "interpreter": {
   "hash": "50e16c2f44914c8da2b92774b22a803d1d19d4c43cfd037324ac5d889001e7fd"
  },
  "kernelspec": {
   "display_name": "Python 3.7.4 64-bit",
   "language": "python",
   "name": "python3"
  },
  "language_info": {
   "codemirror_mode": {
    "name": "ipython",
    "version": 3
   },
   "file_extension": ".py",
   "mimetype": "text/x-python",
   "name": "python",
   "nbconvert_exporter": "python",
   "pygments_lexer": "ipython3",
   "version": "3.7.4"
  },
  "orig_nbformat": 4
 },
 "nbformat": 4,
 "nbformat_minor": 2
}
