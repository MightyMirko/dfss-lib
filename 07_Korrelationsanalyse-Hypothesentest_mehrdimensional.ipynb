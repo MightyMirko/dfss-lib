{
 "cells": [
  {
   "cell_type": "code",
   "execution_count": 1,
   "metadata": {},
   "outputs": [],
   "source": [
    "import numpy as np\n",
    "import pandas as pd\n",
    "import scipy.io\n",
    "import math\n",
    "from scipy.stats import t       #t-Verteitung\n",
    "from scipy.stats import f       #f-Verteilung \n",
    "from scipy.stats import norm    #Standartnormalverteilung\n",
    "from scipy.stats import chi2    #Chi-Quadrat-Verteilung \n",
    "from scipy import stats\n",
    "import matplotlib.pyplot as plt\n",
    "import seaborn as sns\n",
    "from pandas.plotting import scatter_matrix\n",
    "%matplotlib inline"
   ]
  },
  {
   "cell_type": "code",
   "execution_count": 2,
   "metadata": {},
   "outputs": [],
   "source": [
    "\"\"\"Matlab file laden\"\"\"\n",
    "mat = scipy.io.whosmat('Sportuntersuchung.mat') #whosmat gibt eine Liste mit Variablen aus\n",
    "\n",
    "\"\"\"Gewollte Daten aus dem Matlab file laden\"\"\"\n",
    "data = scipy.io.loadmat('Sportuntersuchung.mat')['data']\n",
    "\n",
    "\"\"\"Daten aufteilen (Dimension des Datensatz beachten; hier:3)\"\"\"\n",
    "x = data[:,0]\n",
    "y = data[:,1]\n",
    "z = data[:,2]\n",
    "\n",
    "\"\"\"Pandas Dataframe erstellen\"\"\"\n",
    "df = pd.DataFrame(data, columns = ['Körpergröße', 'Brustumfang', 'Lungenvolumen'])"
   ]
  },
  {
   "cell_type": "code",
   "execution_count": 3,
   "metadata": {},
   "outputs": [
    {
     "data": {
      "text/plain": [
       "('r_min Matrix:',\n",
       " [[1, 0.08252483023517378, 0.6547722294225624],\n",
       "  [0.08252483023517378, 1, 0.28737712628716566],\n",
       "  [0.6547722294225624, 0.28737712628716566, 1]],\n",
       " 'r_max Matrix:',\n",
       " [[1, 0.7752823912096611, 0.9395654698184941],\n",
       "  [0.7752823912096611, 1, 0.8472787042562409],\n",
       "  [0.9395654698184941, 0.8472787042562409, 1]])"
      ]
     },
     "execution_count": 3,
     "metadata": {},
     "output_type": "execute_result"
    }
   ],
   "source": [
    "\"\"\"Hypothesentest-Matrix\"\"\"\n",
    "Gamma = 0.95    #Wird vorgegeben; std.mäßg bei 95%\n",
    "N = len(x)\n",
    "\n",
    "c1 = norm.ppf((1-Gamma)/2,0,1)\n",
    "c2 = norm.ppf((1+Gamma)/2,0,1)\n",
    "\n",
    "#alle Permutationen beachten; hier nur x,y,z\n",
    "r_xy = np.corrcoef(x,y)[0,1]\n",
    "r_xz = np.corrcoef(x,z)[0,1]\n",
    "r_yz = np.corrcoef(y,z)[0,1]\n",
    "\n",
    "#für jede Permutation min. und max. berechnen\n",
    "r_xy_min = math.tanh(math.atanh(r_xy)-(c2/np.sqrt(N-3)))\n",
    "r_xy_max = math.tanh(math.atanh(r_xy)-(c1/np.sqrt(N-3)))\n",
    "\n",
    "r_xz_min = math.tanh(math.atanh(r_xz)-(c2/np.sqrt(N-3)))\n",
    "r_xz_max = math.tanh(math.atanh(r_xz)-(c1/np.sqrt(N-3)))\n",
    "\n",
    "r_yz_min = math.tanh(math.atanh(r_yz)-(c2/np.sqrt(N-3)))\n",
    "r_yz_max = math.tanh(math.atanh(r_yz)-(c1/np.sqrt(N-3)))\n",
    "\n",
    "\"\"\"\n",
    "1   xy  xz\n",
    "yx  1   yz\n",
    "zx  zy  1\n",
    "\n",
    "yz = zy\n",
    "xy = yx\n",
    "xz = zx\n",
    "\"\"\"\n",
    "\n",
    "#Größe des Arrays ggf. erweitern, wenn mehr Dimensionen/Größen/Variablen vorhanen sind\n",
    "r_min = [[1,r_xy_min, r_xz_min],[r_xy_min,1,r_yz_min],[r_xz_min, r_yz_min, 1]]\n",
    "r_max = [[1,r_xy_max, r_xz_max],[r_xy_max,1,r_yz_max],[r_xz_max, r_yz_max, 1]]\n",
    "\n",
    "'r_min Matrix:',r_min, 'r_max Matrix:',r_max\n",
    "#print(\"Alle Werte in r_min-Matrix und r_max-Matrix schließen die Nulle aus, die Hypothese muss verworfen werden und die jeweiligen Größen sind somit statistisch abhängig zueinander\")"
   ]
  }
 ],
 "metadata": {
  "interpreter": {
   "hash": "50e16c2f44914c8da2b92774b22a803d1d19d4c43cfd037324ac5d889001e7fd"
  },
  "kernelspec": {
   "display_name": "Python 3.7.4 64-bit",
   "language": "python",
   "name": "python3"
  },
  "language_info": {
   "codemirror_mode": {
    "name": "ipython",
    "version": 3
   },
   "file_extension": ".py",
   "mimetype": "text/x-python",
   "name": "python",
   "nbconvert_exporter": "python",
   "pygments_lexer": "ipython3",
   "version": "3.7.4"
  },
  "orig_nbformat": 4
 },
 "nbformat": 4,
 "nbformat_minor": 2
}
