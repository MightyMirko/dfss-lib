{
 "cells": [
  {
   "cell_type": "code",
   "execution_count": 3,
   "metadata": {},
   "outputs": [],
   "source": [
    "import numpy as np\n",
    "import pandas as pd\n",
    "import scipy.io\n",
    "import math\n",
    "from scipy.stats import t       #t-Verteitung\n",
    "from scipy.stats import f       #f-Verteilung \n",
    "from scipy.stats import norm    #Standartnormalverteilung\n",
    "from scipy.stats import chi2    #Chi-Quadrat-Verteilung \n",
    "from scipy import stats\n",
    "import matplotlib.pyplot as plt\n",
    "import seaborn as sns\n",
    "from pandas.plotting import scatter_matrix\n",
    "%matplotlib inline"
   ]
  },
  {
   "cell_type": "markdown",
   "metadata": {},
   "source": [
    "01: Berechnungen mit numpy"
   ]
  },
  {
   "cell_type": "code",
   "execution_count": 5,
   "metadata": {},
   "outputs": [],
   "source": [
    "\"\"\"Laden der Messwerte\"\"\"\n",
    "x = scipy.io.loadmat('Verunreinigungen.mat')['Verunreinigungen']\n",
    "x = np.ravel(x)\n",
    "\n",
    "\"\"\"Brechnen des Mittelwertes\"\"\"\n",
    "X_mean = np.mean(x)\n",
    "\n",
    "\"\"\"Berechnen der Standartabweichung\"\"\"\n",
    "X_std = np.std(x, ddof=1)   #Für Stichproben!\n",
    "\n",
    "\"\"\"Berechnen des Median\"\"\"\n",
    "X_med = np.median(x)\n",
    "\n",
    "\"\"\"Berechnen der Varianz\"\"\"\n",
    "X_var = np.var(x, ddof=1) #Nur vür Grundgesamtheit benutzen!\n",
    "\n",
    "\"\"\"Berechnen der Spannweite\"\"\"\n",
    "X_var = np.ptp(x)\n",
    "\n",
    "\"\"\"Brechnung der Quantile\"\"\"\n",
    "q25 = np.quantile(x, 0.25)\n",
    "\n",
    "\"\"\"Brechnung der Quantile\"\"\"\n",
    "q50 = np.quantile(x, 0.50)\n",
    "\n",
    "\"\"\"Brechnung der Quantile\"\"\"\n",
    "q75 = np.quantile(x, 0.75)\n"
   ]
  },
  {
   "cell_type": "markdown",
   "metadata": {},
   "source": [
    "02. Berechnungen mit pandas"
   ]
  },
  {
   "cell_type": "code",
   "execution_count": 6,
   "metadata": {},
   "outputs": [],
   "source": [
    "df = pd.read_csv('Glasfaser.txt', header=None)\n",
    "df.columns=['d']\n",
    "\n",
    "Mittelwert = df.d.mean()\n",
    "StdAbweichung = df.d.std()\n",
    "Varianz = df.d.var()\n",
    "Median = df.d.median()\n",
    "Minimum = df.d.min()\n",
    "Maximum = df.d.max()\n",
    "Spannweite = Maximum-Minimum"
   ]
  }
 ],
 "metadata": {
  "interpreter": {
   "hash": "50e16c2f44914c8da2b92774b22a803d1d19d4c43cfd037324ac5d889001e7fd"
  },
  "kernelspec": {
   "display_name": "Python 3.7.4 64-bit",
   "language": "python",
   "name": "python3"
  },
  "language_info": {
   "codemirror_mode": {
    "name": "ipython",
    "version": 3
   },
   "file_extension": ".py",
   "mimetype": "text/x-python",
   "name": "python",
   "nbconvert_exporter": "python",
   "pygments_lexer": "ipython3",
   "version": "3.7.4"
  },
  "orig_nbformat": 4
 },
 "nbformat": 4,
 "nbformat_minor": 2
}
