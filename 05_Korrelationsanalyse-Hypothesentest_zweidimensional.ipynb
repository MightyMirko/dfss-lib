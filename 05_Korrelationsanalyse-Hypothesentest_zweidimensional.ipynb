{
 "cells": [
  {
   "cell_type": "code",
   "execution_count": 1,
   "metadata": {},
   "outputs": [],
   "source": [
    "import numpy as np\n",
    "import pandas as pd\n",
    "import scipy.io\n",
    "import math\n",
    "from scipy.stats import t       #t-Verteitung\n",
    "from scipy.stats import f       #f-Verteilung \n",
    "from scipy.stats import norm    #Standartnormalverteilung\n",
    "from scipy.stats import chi2    #Chi-Quadrat-Verteilung \n",
    "from scipy import stats\n",
    "import matplotlib.pyplot as plt\n",
    "import seaborn as sns\n",
    "from pandas.plotting import scatter_matrix\n",
    "%matplotlib inline"
   ]
  },
  {
   "cell_type": "code",
   "execution_count": 3,
   "metadata": {},
   "outputs": [
    {
     "name": "stdout",
     "output_type": "stream",
     "text": [
      "-2.0484 < -1.652968955242198 < 2.0484\n",
      "t liegt zwischen c1 und c2 und damit kann die Hypothese angenommen werden\n"
     ]
    }
   ],
   "source": [
    "\"\"\"Matlab file laden\"\"\"\n",
    "mat = scipy.io.whosmat('Gussteile.mat') #whosmat gibt eine Liste mit Variablen aus\n",
    "\n",
    "\"\"\"Gewollte Daten aus dem Matlab file laden\"\"\"\n",
    "data = scipy.io.loadmat('Gussteile.mat')['data']\n",
    "\n",
    "\"\"\"Daten aufteilen\"\"\"\n",
    "x = data[:,0]\n",
    "y = data[:,1]\n",
    "\n",
    "\"\"\"Hypothesentest mit: Variable t\"\"\"\n",
    "#https://www.eit.hs-karlsruhe.de/dfss/statistics/korrelationsanalyse/bewertung-des-korrelationskoeffizienten/hypothesentest-zum-korrelationskoeffizienten-einer-zweidimensionalen-stichprobe.html\n",
    "alpha = 0.05\n",
    "N = len(x)\n",
    "\n",
    "c1 = t.ppf(alpha/2, N-2)        # bei der t-Verteilung ddof wichtig; hier: ddof=N-2\n",
    "c2 = t.ppf((1-(alpha/2)), N-2)   # bei der t-Verteilung ddof wichtig; hier: ddof=N-2\n",
    "\n",
    "r = np.corrcoef(x,y)[0,1]\n",
    "\n",
    "t01 = r* np.sqrt((N-2)/(1-np.power(r,2)))\n",
    "\n",
    "c1, c2, t01\n",
    "\n",
    "print(np.round(c1,4), \"<\",t01,\"<\",np.round(c2,4))\n",
    "print(\"t liegt zwischen c1 und c2 und damit kann die Hypothese angenommen werden\")"
   ]
  },
  {
   "cell_type": "code",
   "execution_count": 4,
   "metadata": {},
   "outputs": [
    {
     "name": "stdout",
     "output_type": "stream",
     "text": [
      "-0.3603 < -0.2981721796802153 < 0.3603\n"
     ]
    }
   ],
   "source": [
    "\"\"\"Matlab file laden\"\"\"\n",
    "mat = scipy.io.whosmat('Gussteile.mat') #whosmat gibt eine Liste mit Variablen aus\n",
    "\n",
    "\"\"\"Gewollte Daten aus dem Matlab file laden\"\"\"\n",
    "data = scipy.io.loadmat('Gussteile.mat')['data']\n",
    "\n",
    "\"\"\"Daten aufteilen\"\"\"\n",
    "x = data[:,0]\n",
    "y = data[:,1]\n",
    "\n",
    "\"\"\"Hypothesentest mit: Variable Z\"\"\"\n",
    "#https://www.eit.hs-karlsruhe.de/dfss/statistics/korrelationsanalyse/bewertung-des-korrelationskoeffizienten/hypothesentest-zum-korrelationskoeffizienten-einer-zweidimensionalen-stichprobe.html\n",
    "alpha = 0.05\n",
    "N = len(x)\n",
    "p0 = 0\n",
    "\n",
    "c1 = norm.ppf(alpha/2,0,1)\n",
    "c2 = norm.ppf((1-(alpha/2)),0,1)\n",
    "\n",
    "r = np.corrcoef(x,y)[0,1]\n",
    "\n",
    "Z = (math.atanh(r)-math.atanh(p0))+np.sqrt(N-3)\n",
    "\n",
    "rc1 = math.tanh(math.atanh(p0)+(c1/np.sqrt(N-3)))\n",
    "rc2 = math.tanh(math.atanh(p0)+(c2/np.sqrt(N-3)))\n",
    "\n",
    "print(np.round(rc1,4), \"<\",r,\"<\",np.round(rc2,4))"
   ]
  }
 ],
 "metadata": {
  "interpreter": {
   "hash": "50e16c2f44914c8da2b92774b22a803d1d19d4c43cfd037324ac5d889001e7fd"
  },
  "kernelspec": {
   "display_name": "Python 3.7.4 64-bit",
   "language": "python",
   "name": "python3"
  },
  "language_info": {
   "codemirror_mode": {
    "name": "ipython",
    "version": 3
   },
   "file_extension": ".py",
   "mimetype": "text/x-python",
   "name": "python",
   "nbconvert_exporter": "python",
   "pygments_lexer": "ipython3",
   "version": "3.7.4"
  },
  "orig_nbformat": 4
 },
 "nbformat": 4,
 "nbformat_minor": 2
}
